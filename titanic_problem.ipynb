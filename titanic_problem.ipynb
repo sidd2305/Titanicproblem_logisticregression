{
  "cells": [
    {
      "cell_type": "code",
      "execution_count": 1,
      "metadata": {
        "id": "IFlsoV2EYCFF"
      },
      "outputs": [],
      "source": [
        "import copy, math\n",
        "import numpy as np\n",
        "import matplotlib.pyplot as plt"
      ]
    },
    {
      "cell_type": "code",
      "execution_count": 2,
      "metadata": {
        "id": "TVbxPRoHYmh-"
      },
      "outputs": [],
      "source": [
        "import pandas as pd\n",
        "from sklearn.preprocessing import LabelEncoder"
      ]
    },
    {
      "cell_type": "code",
      "execution_count": 3,
      "metadata": {
        "id": "5dvAYkt0Y8cD"
      },
      "outputs": [],
      "source": [
        "train=pd.read_csv(\"train.csv\")\n",
        "test=pd.read_csv(\"test.csv\")"
      ]
    },
    {
      "cell_type": "code",
      "execution_count": 4,
      "metadata": {
        "colab": {
          "base_uri": "https://localhost:8080/",
          "height": 285
        },
        "id": "KuSsEGTHZBGL",
        "outputId": "2f70bb64-3333-4a20-eda6-6f63a3b63c97"
      },
      "outputs": [
        {
          "output_type": "execute_result",
          "data": {
            "text/plain": [
              "   PassengerId  Pclass                                          Name     Sex  \\\n",
              "0          892       3                              Kelly, Mr. James    male   \n",
              "1          893       3              Wilkes, Mrs. James (Ellen Needs)  female   \n",
              "2          894       2                     Myles, Mr. Thomas Francis    male   \n",
              "3          895       3                              Wirz, Mr. Albert    male   \n",
              "4          896       3  Hirvonen, Mrs. Alexander (Helga E Lindqvist)  female   \n",
              "\n",
              "    Age  SibSp  Parch   Ticket     Fare Cabin Embarked  \n",
              "0  34.5      0      0   330911   7.8292   NaN        Q  \n",
              "1  47.0      1      0   363272   7.0000   NaN        S  \n",
              "2  62.0      0      0   240276   9.6875   NaN        Q  \n",
              "3  27.0      0      0   315154   8.6625   NaN        S  \n",
              "4  22.0      1      1  3101298  12.2875   NaN        S  "
            ],
            "text/html": [
              "\n",
              "  <div id=\"df-5919bf36-a02b-4a54-b17a-f5bf26384acc\">\n",
              "    <div class=\"colab-df-container\">\n",
              "      <div>\n",
              "<style scoped>\n",
              "    .dataframe tbody tr th:only-of-type {\n",
              "        vertical-align: middle;\n",
              "    }\n",
              "\n",
              "    .dataframe tbody tr th {\n",
              "        vertical-align: top;\n",
              "    }\n",
              "\n",
              "    .dataframe thead th {\n",
              "        text-align: right;\n",
              "    }\n",
              "</style>\n",
              "<table border=\"1\" class=\"dataframe\">\n",
              "  <thead>\n",
              "    <tr style=\"text-align: right;\">\n",
              "      <th></th>\n",
              "      <th>PassengerId</th>\n",
              "      <th>Pclass</th>\n",
              "      <th>Name</th>\n",
              "      <th>Sex</th>\n",
              "      <th>Age</th>\n",
              "      <th>SibSp</th>\n",
              "      <th>Parch</th>\n",
              "      <th>Ticket</th>\n",
              "      <th>Fare</th>\n",
              "      <th>Cabin</th>\n",
              "      <th>Embarked</th>\n",
              "    </tr>\n",
              "  </thead>\n",
              "  <tbody>\n",
              "    <tr>\n",
              "      <th>0</th>\n",
              "      <td>892</td>\n",
              "      <td>3</td>\n",
              "      <td>Kelly, Mr. James</td>\n",
              "      <td>male</td>\n",
              "      <td>34.5</td>\n",
              "      <td>0</td>\n",
              "      <td>0</td>\n",
              "      <td>330911</td>\n",
              "      <td>7.8292</td>\n",
              "      <td>NaN</td>\n",
              "      <td>Q</td>\n",
              "    </tr>\n",
              "    <tr>\n",
              "      <th>1</th>\n",
              "      <td>893</td>\n",
              "      <td>3</td>\n",
              "      <td>Wilkes, Mrs. James (Ellen Needs)</td>\n",
              "      <td>female</td>\n",
              "      <td>47.0</td>\n",
              "      <td>1</td>\n",
              "      <td>0</td>\n",
              "      <td>363272</td>\n",
              "      <td>7.0000</td>\n",
              "      <td>NaN</td>\n",
              "      <td>S</td>\n",
              "    </tr>\n",
              "    <tr>\n",
              "      <th>2</th>\n",
              "      <td>894</td>\n",
              "      <td>2</td>\n",
              "      <td>Myles, Mr. Thomas Francis</td>\n",
              "      <td>male</td>\n",
              "      <td>62.0</td>\n",
              "      <td>0</td>\n",
              "      <td>0</td>\n",
              "      <td>240276</td>\n",
              "      <td>9.6875</td>\n",
              "      <td>NaN</td>\n",
              "      <td>Q</td>\n",
              "    </tr>\n",
              "    <tr>\n",
              "      <th>3</th>\n",
              "      <td>895</td>\n",
              "      <td>3</td>\n",
              "      <td>Wirz, Mr. Albert</td>\n",
              "      <td>male</td>\n",
              "      <td>27.0</td>\n",
              "      <td>0</td>\n",
              "      <td>0</td>\n",
              "      <td>315154</td>\n",
              "      <td>8.6625</td>\n",
              "      <td>NaN</td>\n",
              "      <td>S</td>\n",
              "    </tr>\n",
              "    <tr>\n",
              "      <th>4</th>\n",
              "      <td>896</td>\n",
              "      <td>3</td>\n",
              "      <td>Hirvonen, Mrs. Alexander (Helga E Lindqvist)</td>\n",
              "      <td>female</td>\n",
              "      <td>22.0</td>\n",
              "      <td>1</td>\n",
              "      <td>1</td>\n",
              "      <td>3101298</td>\n",
              "      <td>12.2875</td>\n",
              "      <td>NaN</td>\n",
              "      <td>S</td>\n",
              "    </tr>\n",
              "  </tbody>\n",
              "</table>\n",
              "</div>\n",
              "      <button class=\"colab-df-convert\" onclick=\"convertToInteractive('df-5919bf36-a02b-4a54-b17a-f5bf26384acc')\"\n",
              "              title=\"Convert this dataframe to an interactive table.\"\n",
              "              style=\"display:none;\">\n",
              "        \n",
              "  <svg xmlns=\"http://www.w3.org/2000/svg\" height=\"24px\"viewBox=\"0 0 24 24\"\n",
              "       width=\"24px\">\n",
              "    <path d=\"M0 0h24v24H0V0z\" fill=\"none\"/>\n",
              "    <path d=\"M18.56 5.44l.94 2.06.94-2.06 2.06-.94-2.06-.94-.94-2.06-.94 2.06-2.06.94zm-11 1L8.5 8.5l.94-2.06 2.06-.94-2.06-.94L8.5 2.5l-.94 2.06-2.06.94zm10 10l.94 2.06.94-2.06 2.06-.94-2.06-.94-.94-2.06-.94 2.06-2.06.94z\"/><path d=\"M17.41 7.96l-1.37-1.37c-.4-.4-.92-.59-1.43-.59-.52 0-1.04.2-1.43.59L10.3 9.45l-7.72 7.72c-.78.78-.78 2.05 0 2.83L4 21.41c.39.39.9.59 1.41.59.51 0 1.02-.2 1.41-.59l7.78-7.78 2.81-2.81c.8-.78.8-2.07 0-2.86zM5.41 20L4 18.59l7.72-7.72 1.47 1.35L5.41 20z\"/>\n",
              "  </svg>\n",
              "      </button>\n",
              "      \n",
              "  <style>\n",
              "    .colab-df-container {\n",
              "      display:flex;\n",
              "      flex-wrap:wrap;\n",
              "      gap: 12px;\n",
              "    }\n",
              "\n",
              "    .colab-df-convert {\n",
              "      background-color: #E8F0FE;\n",
              "      border: none;\n",
              "      border-radius: 50%;\n",
              "      cursor: pointer;\n",
              "      display: none;\n",
              "      fill: #1967D2;\n",
              "      height: 32px;\n",
              "      padding: 0 0 0 0;\n",
              "      width: 32px;\n",
              "    }\n",
              "\n",
              "    .colab-df-convert:hover {\n",
              "      background-color: #E2EBFA;\n",
              "      box-shadow: 0px 1px 2px rgba(60, 64, 67, 0.3), 0px 1px 3px 1px rgba(60, 64, 67, 0.15);\n",
              "      fill: #174EA6;\n",
              "    }\n",
              "\n",
              "    [theme=dark] .colab-df-convert {\n",
              "      background-color: #3B4455;\n",
              "      fill: #D2E3FC;\n",
              "    }\n",
              "\n",
              "    [theme=dark] .colab-df-convert:hover {\n",
              "      background-color: #434B5C;\n",
              "      box-shadow: 0px 1px 3px 1px rgba(0, 0, 0, 0.15);\n",
              "      filter: drop-shadow(0px 1px 2px rgba(0, 0, 0, 0.3));\n",
              "      fill: #FFFFFF;\n",
              "    }\n",
              "  </style>\n",
              "\n",
              "      <script>\n",
              "        const buttonEl =\n",
              "          document.querySelector('#df-5919bf36-a02b-4a54-b17a-f5bf26384acc button.colab-df-convert');\n",
              "        buttonEl.style.display =\n",
              "          google.colab.kernel.accessAllowed ? 'block' : 'none';\n",
              "\n",
              "        async function convertToInteractive(key) {\n",
              "          const element = document.querySelector('#df-5919bf36-a02b-4a54-b17a-f5bf26384acc');\n",
              "          const dataTable =\n",
              "            await google.colab.kernel.invokeFunction('convertToInteractive',\n",
              "                                                     [key], {});\n",
              "          if (!dataTable) return;\n",
              "\n",
              "          const docLinkHtml = 'Like what you see? Visit the ' +\n",
              "            '<a target=\"_blank\" href=https://colab.research.google.com/notebooks/data_table.ipynb>data table notebook</a>'\n",
              "            + ' to learn more about interactive tables.';\n",
              "          element.innerHTML = '';\n",
              "          dataTable['output_type'] = 'display_data';\n",
              "          await google.colab.output.renderOutput(dataTable, element);\n",
              "          const docLink = document.createElement('div');\n",
              "          docLink.innerHTML = docLinkHtml;\n",
              "          element.appendChild(docLink);\n",
              "        }\n",
              "      </script>\n",
              "    </div>\n",
              "  </div>\n",
              "  "
            ]
          },
          "metadata": {},
          "execution_count": 4
        }
      ],
      "source": [
        "train.head()\n",
        "test.head()"
      ]
    },
    {
      "cell_type": "code",
      "execution_count": 5,
      "metadata": {
        "id": "_rIgB0c4Z1Ho"
      },
      "outputs": [],
      "source": [
        "df = pd.read_csv('train.csv')\n",
        "\n",
        "# Calculate the mean of the Age column\n",
        "age_mean = df['Age'].mean()\n",
        "#df.drop('Cabin', axis=1, inplace=True)\n",
        "\n",
        "\n",
        "# Fill missing values with the mean value\n",
        "df['Age'].fillna(age_mean, inplace=True)\n",
        "\n",
        "# Save the dataframe to a new CSV file\n",
        "df.to_csv('train.csv', index=False)\n"
      ]
    },
    {
      "cell_type": "code",
      "source": [
        "df1 = pd.read_csv('test.csv')\n",
        "\n",
        "# Calculate the mean of the Age column\n",
        "age_mean1 = df1['Age'].mean()\n",
        "fare_mean1=df1[\"Fare\"].mean()\n",
        "#df.drop('Cabin', axis=1, inplace=True)\n",
        "\n",
        "\n",
        "# Fill missing values with the mean value\n",
        "df1['Age'].fillna(age_mean1, inplace=True)\n",
        "df1['Fare'].fillna(fare_mean1,inplace=True)\n",
        "\n",
        "# Save the dataframe to a new CSV file\n",
        "df1.to_csv('test.csv', index=False)\n"
      ],
      "metadata": {
        "id": "7Mv6WAG1s1JR"
      },
      "execution_count": 6,
      "outputs": []
    },
    {
      "cell_type": "code",
      "execution_count": 7,
      "metadata": {
        "colab": {
          "base_uri": "https://localhost:8080/",
          "height": 389
        },
        "id": "TteCZAVYaJNb",
        "outputId": "ec8f1963-d2d2-4dae-af3d-8e64327013e0"
      },
      "outputs": [
        {
          "output_type": "execute_result",
          "data": {
            "text/plain": [
              "   PassengerId  Survived  Pclass  \\\n",
              "0            1         0       3   \n",
              "1            2         1       1   \n",
              "2            3         1       3   \n",
              "3            4         1       1   \n",
              "4            5         0       3   \n",
              "\n",
              "                                                Name     Sex   Age  SibSp  \\\n",
              "0                            Braund, Mr. Owen Harris    male  22.0      1   \n",
              "1  Cumings, Mrs. John Bradley (Florence Briggs Th...  female  38.0      1   \n",
              "2                             Heikkinen, Miss. Laina  female  26.0      0   \n",
              "3       Futrelle, Mrs. Jacques Heath (Lily May Peel)  female  35.0      1   \n",
              "4                           Allen, Mr. William Henry    male  35.0      0   \n",
              "\n",
              "   Parch            Ticket     Fare Cabin Embarked  \n",
              "0      0         A/5 21171   7.2500   NaN        S  \n",
              "1      0          PC 17599  71.2833   C85        C  \n",
              "2      0  STON/O2. 3101282   7.9250   NaN        S  \n",
              "3      0            113803  53.1000  C123        S  \n",
              "4      0            373450   8.0500   NaN        S  "
            ],
            "text/html": [
              "\n",
              "  <div id=\"df-1f47f0c3-4fb6-4a4f-aa26-41bb52a66453\">\n",
              "    <div class=\"colab-df-container\">\n",
              "      <div>\n",
              "<style scoped>\n",
              "    .dataframe tbody tr th:only-of-type {\n",
              "        vertical-align: middle;\n",
              "    }\n",
              "\n",
              "    .dataframe tbody tr th {\n",
              "        vertical-align: top;\n",
              "    }\n",
              "\n",
              "    .dataframe thead th {\n",
              "        text-align: right;\n",
              "    }\n",
              "</style>\n",
              "<table border=\"1\" class=\"dataframe\">\n",
              "  <thead>\n",
              "    <tr style=\"text-align: right;\">\n",
              "      <th></th>\n",
              "      <th>PassengerId</th>\n",
              "      <th>Survived</th>\n",
              "      <th>Pclass</th>\n",
              "      <th>Name</th>\n",
              "      <th>Sex</th>\n",
              "      <th>Age</th>\n",
              "      <th>SibSp</th>\n",
              "      <th>Parch</th>\n",
              "      <th>Ticket</th>\n",
              "      <th>Fare</th>\n",
              "      <th>Cabin</th>\n",
              "      <th>Embarked</th>\n",
              "    </tr>\n",
              "  </thead>\n",
              "  <tbody>\n",
              "    <tr>\n",
              "      <th>0</th>\n",
              "      <td>1</td>\n",
              "      <td>0</td>\n",
              "      <td>3</td>\n",
              "      <td>Braund, Mr. Owen Harris</td>\n",
              "      <td>male</td>\n",
              "      <td>22.0</td>\n",
              "      <td>1</td>\n",
              "      <td>0</td>\n",
              "      <td>A/5 21171</td>\n",
              "      <td>7.2500</td>\n",
              "      <td>NaN</td>\n",
              "      <td>S</td>\n",
              "    </tr>\n",
              "    <tr>\n",
              "      <th>1</th>\n",
              "      <td>2</td>\n",
              "      <td>1</td>\n",
              "      <td>1</td>\n",
              "      <td>Cumings, Mrs. John Bradley (Florence Briggs Th...</td>\n",
              "      <td>female</td>\n",
              "      <td>38.0</td>\n",
              "      <td>1</td>\n",
              "      <td>0</td>\n",
              "      <td>PC 17599</td>\n",
              "      <td>71.2833</td>\n",
              "      <td>C85</td>\n",
              "      <td>C</td>\n",
              "    </tr>\n",
              "    <tr>\n",
              "      <th>2</th>\n",
              "      <td>3</td>\n",
              "      <td>1</td>\n",
              "      <td>3</td>\n",
              "      <td>Heikkinen, Miss. Laina</td>\n",
              "      <td>female</td>\n",
              "      <td>26.0</td>\n",
              "      <td>0</td>\n",
              "      <td>0</td>\n",
              "      <td>STON/O2. 3101282</td>\n",
              "      <td>7.9250</td>\n",
              "      <td>NaN</td>\n",
              "      <td>S</td>\n",
              "    </tr>\n",
              "    <tr>\n",
              "      <th>3</th>\n",
              "      <td>4</td>\n",
              "      <td>1</td>\n",
              "      <td>1</td>\n",
              "      <td>Futrelle, Mrs. Jacques Heath (Lily May Peel)</td>\n",
              "      <td>female</td>\n",
              "      <td>35.0</td>\n",
              "      <td>1</td>\n",
              "      <td>0</td>\n",
              "      <td>113803</td>\n",
              "      <td>53.1000</td>\n",
              "      <td>C123</td>\n",
              "      <td>S</td>\n",
              "    </tr>\n",
              "    <tr>\n",
              "      <th>4</th>\n",
              "      <td>5</td>\n",
              "      <td>0</td>\n",
              "      <td>3</td>\n",
              "      <td>Allen, Mr. William Henry</td>\n",
              "      <td>male</td>\n",
              "      <td>35.0</td>\n",
              "      <td>0</td>\n",
              "      <td>0</td>\n",
              "      <td>373450</td>\n",
              "      <td>8.0500</td>\n",
              "      <td>NaN</td>\n",
              "      <td>S</td>\n",
              "    </tr>\n",
              "  </tbody>\n",
              "</table>\n",
              "</div>\n",
              "      <button class=\"colab-df-convert\" onclick=\"convertToInteractive('df-1f47f0c3-4fb6-4a4f-aa26-41bb52a66453')\"\n",
              "              title=\"Convert this dataframe to an interactive table.\"\n",
              "              style=\"display:none;\">\n",
              "        \n",
              "  <svg xmlns=\"http://www.w3.org/2000/svg\" height=\"24px\"viewBox=\"0 0 24 24\"\n",
              "       width=\"24px\">\n",
              "    <path d=\"M0 0h24v24H0V0z\" fill=\"none\"/>\n",
              "    <path d=\"M18.56 5.44l.94 2.06.94-2.06 2.06-.94-2.06-.94-.94-2.06-.94 2.06-2.06.94zm-11 1L8.5 8.5l.94-2.06 2.06-.94-2.06-.94L8.5 2.5l-.94 2.06-2.06.94zm10 10l.94 2.06.94-2.06 2.06-.94-2.06-.94-.94-2.06-.94 2.06-2.06.94z\"/><path d=\"M17.41 7.96l-1.37-1.37c-.4-.4-.92-.59-1.43-.59-.52 0-1.04.2-1.43.59L10.3 9.45l-7.72 7.72c-.78.78-.78 2.05 0 2.83L4 21.41c.39.39.9.59 1.41.59.51 0 1.02-.2 1.41-.59l7.78-7.78 2.81-2.81c.8-.78.8-2.07 0-2.86zM5.41 20L4 18.59l7.72-7.72 1.47 1.35L5.41 20z\"/>\n",
              "  </svg>\n",
              "      </button>\n",
              "      \n",
              "  <style>\n",
              "    .colab-df-container {\n",
              "      display:flex;\n",
              "      flex-wrap:wrap;\n",
              "      gap: 12px;\n",
              "    }\n",
              "\n",
              "    .colab-df-convert {\n",
              "      background-color: #E8F0FE;\n",
              "      border: none;\n",
              "      border-radius: 50%;\n",
              "      cursor: pointer;\n",
              "      display: none;\n",
              "      fill: #1967D2;\n",
              "      height: 32px;\n",
              "      padding: 0 0 0 0;\n",
              "      width: 32px;\n",
              "    }\n",
              "\n",
              "    .colab-df-convert:hover {\n",
              "      background-color: #E2EBFA;\n",
              "      box-shadow: 0px 1px 2px rgba(60, 64, 67, 0.3), 0px 1px 3px 1px rgba(60, 64, 67, 0.15);\n",
              "      fill: #174EA6;\n",
              "    }\n",
              "\n",
              "    [theme=dark] .colab-df-convert {\n",
              "      background-color: #3B4455;\n",
              "      fill: #D2E3FC;\n",
              "    }\n",
              "\n",
              "    [theme=dark] .colab-df-convert:hover {\n",
              "      background-color: #434B5C;\n",
              "      box-shadow: 0px 1px 3px 1px rgba(0, 0, 0, 0.15);\n",
              "      filter: drop-shadow(0px 1px 2px rgba(0, 0, 0, 0.3));\n",
              "      fill: #FFFFFF;\n",
              "    }\n",
              "  </style>\n",
              "\n",
              "      <script>\n",
              "        const buttonEl =\n",
              "          document.querySelector('#df-1f47f0c3-4fb6-4a4f-aa26-41bb52a66453 button.colab-df-convert');\n",
              "        buttonEl.style.display =\n",
              "          google.colab.kernel.accessAllowed ? 'block' : 'none';\n",
              "\n",
              "        async function convertToInteractive(key) {\n",
              "          const element = document.querySelector('#df-1f47f0c3-4fb6-4a4f-aa26-41bb52a66453');\n",
              "          const dataTable =\n",
              "            await google.colab.kernel.invokeFunction('convertToInteractive',\n",
              "                                                     [key], {});\n",
              "          if (!dataTable) return;\n",
              "\n",
              "          const docLinkHtml = 'Like what you see? Visit the ' +\n",
              "            '<a target=\"_blank\" href=https://colab.research.google.com/notebooks/data_table.ipynb>data table notebook</a>'\n",
              "            + ' to learn more about interactive tables.';\n",
              "          element.innerHTML = '';\n",
              "          dataTable['output_type'] = 'display_data';\n",
              "          await google.colab.output.renderOutput(dataTable, element);\n",
              "          const docLink = document.createElement('div');\n",
              "          docLink.innerHTML = docLinkHtml;\n",
              "          element.appendChild(docLink);\n",
              "        }\n",
              "      </script>\n",
              "    </div>\n",
              "  </div>\n",
              "  "
            ]
          },
          "metadata": {},
          "execution_count": 7
        }
      ],
      "source": [
        "train.head()\n"
      ]
    },
    {
      "cell_type": "code",
      "execution_count": 8,
      "metadata": {
        "colab": {
          "base_uri": "https://localhost:8080/"
        },
        "id": "P-BV9QVmTUP0",
        "outputId": "f54a482c-042d-4bae-a6ad-300c07d26e2a"
      },
      "outputs": [
        {
          "output_type": "execute_result",
          "data": {
            "text/plain": [
              "PassengerId      0\n",
              "Pclass           0\n",
              "Name             0\n",
              "Sex              0\n",
              "Age             86\n",
              "SibSp            0\n",
              "Parch            0\n",
              "Ticket           0\n",
              "Fare             1\n",
              "Cabin          327\n",
              "Embarked         0\n",
              "dtype: int64"
            ]
          },
          "metadata": {},
          "execution_count": 8
        }
      ],
      "source": [
        "train.isnull().sum()\n",
        "test.isnull().sum()"
      ]
    },
    {
      "cell_type": "code",
      "source": [],
      "metadata": {
        "id": "F9Xr7b4auOMo"
      },
      "execution_count": 8,
      "outputs": []
    },
    {
      "cell_type": "code",
      "execution_count": 9,
      "metadata": {
        "colab": {
          "base_uri": "https://localhost:8080/",
          "height": 294
        },
        "id": "lXMUmPd0T4gv",
        "outputId": "b2ea4799-2b57-4e75-e111-f029755358eb"
      },
      "outputs": [
        {
          "output_type": "execute_result",
          "data": {
            "text/plain": [
              "<Axes: xlabel='Embarked'>"
            ]
          },
          "metadata": {},
          "execution_count": 9
        },
        {
          "output_type": "display_data",
          "data": {
            "text/plain": [
              "<Figure size 432x288 with 1 Axes>"
            ],
            "image/png": "[encoded data removed]"
          },
          "metadata": {
            "needs_background": "light"
          }
        }
      ],
      "source": [
        "train.groupby('Embarked').size().plot(kind='bar')"
      ]
    },
    {
      "cell_type": "code",
      "execution_count": 10,
      "metadata": {
        "id": "kO-R35nNUAg3"
      },
      "outputs": [],
      "source": [
        "train['Embarked'].fillna('S', inplace=True)\n",
        "#since s has highest values,2 missing values in embarked is S"
      ]
    },
    {
      "cell_type": "code",
      "execution_count": 10,
      "metadata": {
        "id": "LDH3NcQldKKG"
      },
      "outputs": [],
      "source": []
    },
    {
      "cell_type": "code",
      "execution_count": 11,
      "metadata": {
        "id": "r9o4ZJiUUh9v"
      },
      "outputs": [],
      "source": [
        "# make a list of all the posible Decks, the last element is used when no cabin code is present\n",
        "cabin_list = ['A', 'B', 'C', 'D', 'E', 'F', 'T', 'G', 'Unknown']\n",
        "#define a function that replaces the cabin code with the deck character\n",
        "def search_substring(big_string, substring_list):\n",
        "    for substring in substring_list:\n",
        "        if substring in big_string:\n",
        "            return substring\n",
        "    return substring_list[-1]"
      ]
    },
    {
      "cell_type": "code",
      "execution_count": 12,
      "metadata": {
        "colab": {
          "base_uri": "https://localhost:8080/"
        },
        "id": "OQC_PfnKf8to",
        "outputId": "ddedef78-2e71-4760-8db9-128d0e096237"
      },
      "outputs": [
        {
          "output_type": "stream",
          "name": "stdout",
          "text": [
            "w_init shape: (5,), b_init type: <class 'float'>\n"
          ]
        }
      ],
      "source": [
        "b_init = 785.1811367994083\n",
        "w_init = np.array([ 0.39133535, 18.75376741, -53.36032453, -26.42131618,43.45456798])\n",
        "print(f\"w_init shape: {w_init.shape}, b_init type: {type(b_init)}\")"
      ]
    },
    {
      "cell_type": "code",
      "execution_count": 13,
      "metadata": {
        "id": "SUfmhDpAuk4Z"
      },
      "outputs": [],
      "source": [
        "cabin_list = ['A', 'B', 'C', 'D', 'E', 'F', 'T', 'G', 'Unknown']\n",
        "def search_substring_sidd(substring):\n",
        "  if(substring[0] in cabin_list):\n",
        "    return subbstring\n",
        "  return substring_list[-1]\n"
      ]
    },
    {
      "cell_type": "code",
      "execution_count": 14,
      "metadata": {
        "id": "ypUWTrUudqeR"
      },
      "outputs": [],
      "source": [
        "\n",
        "# replace passenger's name with his/her title (Mr, Mrs, Miss, Master)\n",
        "def get_title(string):\n",
        "    import re\n",
        "    regex = re.compile(r'Mr|Don|Major|Capt|Jonkheer|Rev|Col|Dr|Mrs|Countess|Dona|Mme|Ms|Miss|Mlle|Master', re.IGNORECASE)\n",
        "    results = regex.search(string)\n",
        "    if results != None:\n",
        "        return(results.group().lower())\n",
        "    else:\n",
        "        return(str(np.nan))"
      ]
    },
    {
      "cell_type": "code",
      "execution_count": 15,
      "metadata": {
        "id": "H43gJ0THhFpE"
      },
      "outputs": [],
      "source": [
        "title_dictionary = {\n",
        "    \"capt\":\"Officer\", \n",
        "    \"col\":\"Officer\", \n",
        "    \"major\":\"Officer\", \n",
        "    \"dr\":\"Officer\",\n",
        "    \"jonkheer\":\"Royalty\",\n",
        "    \"rev\":\"Officer\",\n",
        "    \"countess\":\"Royalty\",\n",
        "    \"dona\":\"Royalty\",\n",
        "    \"lady\":\"Royalty\",\n",
        "    \"don\":\"Royalty\",\n",
        "    \"mr\":\"Mr\",\n",
        "    \"mme\":\"Mrs\",\n",
        "    \"ms\":\"Mrs\",\n",
        "    \"mrs\":\"Mrs\",\n",
        "    \"miss\":\"Miss\",\n",
        "    \"mlle\":\"Miss\",\n",
        "    \"master\":\"Master\",\n",
        "    \"nan\":\"Mr\"\n",
        "}"
      ]
    },
    {
      "cell_type": "code",
      "execution_count": 16,
      "metadata": {
        "colab": {
          "base_uri": "https://localhost:8080/"
        },
        "id": "5O0cLL6viKSx",
        "outputId": "238eb17e-cca7-44d3-9033-f1d769f44392"
      },
      "outputs": [
        {
          "output_type": "stream",
          "name": "stderr",
          "text": [
            "<ipython-input-16-69655b3b89a8>:4: FutureWarning: In a future version of pandas all arguments of DataFrame.drop except for the argument 'labels' will be keyword-only.\n",
            "  train.drop('Cabin', 1, inplace=True)\n",
            "<ipython-input-16-69655b3b89a8>:12: FutureWarning: In a future version of pandas all arguments of DataFrame.drop except for the argument 'labels' will be keyword-only.\n",
            "  train.drop('Name', 1, inplace=True)\n"
          ]
        }
      ],
      "source": [
        "train['Deck'] = train['Cabin'].map(lambda x: search_substring(str(x), cabin_list))\n",
        "#test_set['Deck'] = test_set['Cabin'].map(lambda x: search_substring(str(x), cabin_list))\n",
        "# delete the Cabin feature\n",
        "train.drop('Cabin', 1, inplace=True)\n",
        "#test_set.drop('Cabin', 1, inplace=True)\n",
        "\n",
        "train['Title'] = train['Name'].apply(get_title)\n",
        "#test_set['Title'] = test_set['Name'].apply(get_title)\n",
        "train['Title'] = train['Title'].map(title_dictionary)\n",
        "#test_set['Title'] = test_set['Title'].map(title_dictionary)\n",
        "# delete the Name feature\n",
        "train.drop('Name', 1, inplace=True)\n",
        "#test_set.drop('Name', 1, inplace=True)\n",
        "\n"
      ]
    },
    {
      "cell_type": "code",
      "source": [
        "test['Deck'] = test['Cabin'].map(lambda x: search_substring(str(x), cabin_list))\n",
        "#test_set['Deck'] = test_set['Cabin'].map(lambda x: search_substring(str(x), cabin_list))\n",
        "# delete the Cabin feature\n",
        "test.drop('Cabin', 1, inplace=True)\n",
        "#test_set.drop('Cabin', 1, inplace=True)\n",
        "\n",
        "test['Title'] = test['Name'].apply(get_title)\n",
        "#test_set['Title'] = test_set['Name'].apply(get_title)\n",
        "test['Title'] = test['Title'].map(title_dictionary)\n",
        "#test_set['Title'] = test_set['Title'].map(title_dictionary)\n",
        "# delete the Name feature\n",
        "test.drop('Name', 1, inplace=True)\n",
        "#test_set.drop('Name', 1, inplace=True)\n",
        "\n"
      ],
      "metadata": {
        "colab": {
          "base_uri": "https://localhost:8080/"
        },
        "id": "w-diPB8ssjBP",
        "outputId": "3fb1a4c2-3830-4de3-bcf3-f697f9225dc9"
      },
      "execution_count": 17,
      "outputs": [
        {
          "output_type": "stream",
          "name": "stderr",
          "text": [
            "<ipython-input-17-7b67d70bebd3>:4: FutureWarning: In a future version of pandas all arguments of DataFrame.drop except for the argument 'labels' will be keyword-only.\n",
            "  test.drop('Cabin', 1, inplace=True)\n",
            "<ipython-input-17-7b67d70bebd3>:12: FutureWarning: In a future version of pandas all arguments of DataFrame.drop except for the argument 'labels' will be keyword-only.\n",
            "  test.drop('Name', 1, inplace=True)\n"
          ]
        }
      ]
    },
    {
      "cell_type": "code",
      "execution_count": 18,
      "metadata": {
        "colab": {
          "base_uri": "https://localhost:8080/",
          "height": 267
        },
        "id": "Zpm4Jxn3x5m-",
        "outputId": "f801dbf1-5833-4287-997c-35ad02ebeb74"
      },
      "outputs": [
        {
          "output_type": "execute_result",
          "data": {
            "text/plain": [
              "   PassengerId  Survived  Pclass     Sex   Age  SibSp  Parch  \\\n",
              "0            1         0       3    male  22.0      1      0   \n",
              "1            2         1       1  female  38.0      1      0   \n",
              "2            3         1       3  female  26.0      0      0   \n",
              "3            4         1       1  female  35.0      1      0   \n",
              "4            5         0       3    male  35.0      0      0   \n",
              "\n",
              "             Ticket     Fare Embarked     Deck Title  \n",
              "0         A/5 21171   7.2500        S  Unknown    Mr  \n",
              "1          PC 17599  71.2833        C        C    Mr  \n",
              "2  STON/O2. 3101282   7.9250        S  Unknown  Miss  \n",
              "3            113803  53.1000        S        C    Mr  \n",
              "4            373450   8.0500        S  Unknown    Mr  "
            ],
            "text/html": [
              "\n",
              "  <div id=\"df-3691ca93-0fa6-48cc-a35b-ab3761a8b074\">\n",
              "    <div class=\"colab-df-container\">\n",
              "      <div>\n",
              "<style scoped>\n",
              "    .dataframe tbody tr th:only-of-type {\n",
              "        vertical-align: middle;\n",
              "    }\n",
              "\n",
              "    .dataframe tbody tr th {\n",
              "        vertical-align: top;\n",
              "    }\n",
              "\n",
              "    .dataframe thead th {\n",
              "        text-align: right;\n",
              "    }\n",
              "</style>\n",
              "<table border=\"1\" class=\"dataframe\">\n",
              "  <thead>\n",
              "    <tr style=\"text-align: right;\">\n",
              "      <th></th>\n",
              "      <th>PassengerId</th>\n",
              "      <th>Survived</th>\n",
              "      <th>Pclass</th>\n",
              "      <th>Sex</th>\n",
              "      <th>Age</th>\n",
              "      <th>SibSp</th>\n",
              "      <th>Parch</th>\n",
              "      <th>Ticket</th>\n",
              "      <th>Fare</th>\n",
              "      <th>Embarked</th>\n",
              "      <th>Deck</th>\n",
              "      <th>Title</th>\n",
              "    </tr>\n",
              "  </thead>\n",
              "  <tbody>\n",
              "    <tr>\n",
              "      <th>0</th>\n",
              "      <td>1</td>\n",
              "      <td>0</td>\n",
              "      <td>3</td>\n",
              "      <td>male</td>\n",
              "      <td>22.0</td>\n",
              "      <td>1</td>\n",
              "      <td>0</td>\n",
              "      <td>A/5 21171</td>\n",
              "      <td>7.2500</td>\n",
              "      <td>S</td>\n",
              "      <td>Unknown</td>\n",
              "      <td>Mr</td>\n",
              "    </tr>\n",
              "    <tr>\n",
              "      <th>1</th>\n",
              "      <td>2</td>\n",
              "      <td>1</td>\n",
              "      <td>1</td>\n",
              "      <td>female</td>\n",
              "      <td>38.0</td>\n",
              "      <td>1</td>\n",
              "      <td>0</td>\n",
              "      <td>PC 17599</td>\n",
              "      <td>71.2833</td>\n",
              "      <td>C</td>\n",
              "      <td>C</td>\n",
              "      <td>Mr</td>\n",
              "    </tr>\n",
              "    <tr>\n",
              "      <th>2</th>\n",
              "      <td>3</td>\n",
              "      <td>1</td>\n",
              "      <td>3</td>\n",
              "      <td>female</td>\n",
              "      <td>26.0</td>\n",
              "      <td>0</td>\n",
              "      <td>0</td>\n",
              "      <td>STON/O2. 3101282</td>\n",
              "      <td>7.9250</td>\n",
              "      <td>S</td>\n",
              "      <td>Unknown</td>\n",
              "      <td>Miss</td>\n",
              "    </tr>\n",
              "    <tr>\n",
              "      <th>3</th>\n",
              "      <td>4</td>\n",
              "      <td>1</td>\n",
              "      <td>1</td>\n",
              "      <td>female</td>\n",
              "      <td>35.0</td>\n",
              "      <td>1</td>\n",
              "      <td>0</td>\n",
              "      <td>113803</td>\n",
              "      <td>53.1000</td>\n",
              "      <td>S</td>\n",
              "      <td>C</td>\n",
              "      <td>Mr</td>\n",
              "    </tr>\n",
              "    <tr>\n",
              "      <th>4</th>\n",
              "      <td>5</td>\n",
              "      <td>0</td>\n",
              "      <td>3</td>\n",
              "      <td>male</td>\n",
              "      <td>35.0</td>\n",
              "      <td>0</td>\n",
              "      <td>0</td>\n",
              "      <td>373450</td>\n",
              "      <td>8.0500</td>\n",
              "      <td>S</td>\n",
              "      <td>Unknown</td>\n",
              "      <td>Mr</td>\n",
              "    </tr>\n",
              "  </tbody>\n",
              "</table>\n",
              "</div>\n",
              "      <button class=\"colab-df-convert\" onclick=\"convertToInteractive('df-3691ca93-0fa6-48cc-a35b-ab3761a8b074')\"\n",
              "              title=\"Convert this dataframe to an interactive table.\"\n",
              "              style=\"display:none;\">\n",
              "        \n",
              "  <svg xmlns=\"http://www.w3.org/2000/svg\" height=\"24px\"viewBox=\"0 0 24 24\"\n",
              "       width=\"24px\">\n",
              "    <path d=\"M0 0h24v24H0V0z\" fill=\"none\"/>\n",
              "    <path d=\"M18.56 5.44l.94 2.06.94-2.06 2.06-.94-2.06-.94-.94-2.06-.94 2.06-2.06.94zm-11 1L8.5 8.5l.94-2.06 2.06-.94-2.06-.94L8.5 2.5l-.94 2.06-2.06.94zm10 10l.94 2.06.94-2.06 2.06-.94-2.06-.94-.94-2.06-.94 2.06-2.06.94z\"/><path d=\"M17.41 7.96l-1.37-1.37c-.4-.4-.92-.59-1.43-.59-.52 0-1.04.2-1.43.59L10.3 9.45l-7.72 7.72c-.78.78-.78 2.05 0 2.83L4 21.41c.39.39.9.59 1.41.59.51 0 1.02-.2 1.41-.59l7.78-7.78 2.81-2.81c.8-.78.8-2.07 0-2.86zM5.41 20L4 18.59l7.72-7.72 1.47 1.35L5.41 20z\"/>\n",
              "  </svg>\n",
              "      </button>\n",
              "      \n",
              "  <style>\n",
              "    .colab-df-container {\n",
              "      display:flex;\n",
              "      flex-wrap:wrap;\n",
              "      gap: 12px;\n",
              "    }\n",
              "\n",
              "    .colab-df-convert {\n",
              "      background-color: #E8F0FE;\n",
              "      border: none;\n",
              "      border-radius: 50%;\n",
              "      cursor: pointer;\n",
              "      display: none;\n",
              "      fill: #1967D2;\n",
              "      height: 32px;\n",
              "      padding: 0 0 0 0;\n",
              "      width: 32px;\n",
              "    }\n",
              "\n",
              "    .colab-df-convert:hover {\n",
              "      background-color: #E2EBFA;\n",
              "      box-shadow: 0px 1px 2px rgba(60, 64, 67, 0.3), 0px 1px 3px 1px rgba(60, 64, 67, 0.15);\n",
              "      fill: #174EA6;\n",
              "    }\n",
              "\n",
              "    [theme=dark] .colab-df-convert {\n",
              "      background-color: #3B4455;\n",
              "      fill: #D2E3FC;\n",
              "    }\n",
              "\n",
              "    [theme=dark] .colab-df-convert:hover {\n",
              "      background-color: #434B5C;\n",
              "      box-shadow: 0px 1px 3px 1px rgba(0, 0, 0, 0.15);\n",
              "      filter: drop-shadow(0px 1px 2px rgba(0, 0, 0, 0.3));\n",
              "      fill: #FFFFFF;\n",
              "    }\n",
              "  </style>\n",
              "\n",
              "      <script>\n",
              "        const buttonEl =\n",
              "          document.querySelector('#df-3691ca93-0fa6-48cc-a35b-ab3761a8b074 button.colab-df-convert');\n",
              "        buttonEl.style.display =\n",
              "          google.colab.kernel.accessAllowed ? 'block' : 'none';\n",
              "\n",
              "        async function convertToInteractive(key) {\n",
              "          const element = document.querySelector('#df-3691ca93-0fa6-48cc-a35b-ab3761a8b074');\n",
              "          const dataTable =\n",
              "            await google.colab.kernel.invokeFunction('convertToInteractive',\n",
              "                                                     [key], {});\n",
              "          if (!dataTable) return;\n",
              "\n",
              "          const docLinkHtml = 'Like what you see? Visit the ' +\n",
              "            '<a target=\"_blank\" href=https://colab.research.google.com/notebooks/data_table.ipynb>data table notebook</a>'\n",
              "            + ' to learn more about interactive tables.';\n",
              "          element.innerHTML = '';\n",
              "          dataTable['output_type'] = 'display_data';\n",
              "          await google.colab.output.renderOutput(dataTable, element);\n",
              "          const docLink = document.createElement('div');\n",
              "          docLink.innerHTML = docLinkHtml;\n",
              "          element.appendChild(docLink);\n",
              "        }\n",
              "      </script>\n",
              "    </div>\n",
              "  </div>\n",
              "  "
            ]
          },
          "metadata": {},
          "execution_count": 18
        }
      ],
      "source": [
        "train.head()"
      ]
    },
    {
      "cell_type": "code",
      "execution_count": 19,
      "metadata": {
        "colab": {
          "base_uri": "https://localhost:8080/"
        },
        "id": "-AVO8sBFyNWw",
        "outputId": "eafde24c-9978-4909-966f-850b91e86ac9"
      },
      "outputs": [
        {
          "output_type": "stream",
          "name": "stderr",
          "text": [
            "<ipython-input-19-912157a19ee1>:1: FutureWarning: In a future version of pandas all arguments of DataFrame.drop except for the argument 'labels' will be keyword-only.\n",
            "  train.drop('Ticket', 1, inplace=True)\n"
          ]
        }
      ],
      "source": [
        "train.drop('Ticket', 1, inplace=True)"
      ]
    },
    {
      "cell_type": "code",
      "execution_count": 20,
      "metadata": {
        "id": "kk0APfhTyguT"
      },
      "outputs": [],
      "source": [
        "means_title = train.groupby('Title')['Age'].mean()\n",
        "title_list = ['Mr','Miss','Mrs','Master', 'Royalty', 'Officer']\n",
        "def age_nan_replace(means, dframe, title_list):\n",
        "    for title in title_list:\n",
        "        temp = dframe['Title'] == title #extract indices of samples with same title\n",
        "        dframe.loc[temp, 'Age'] = dframe.loc[temp, 'Age'].fillna(means[title]) # replace nan values for mean\n",
        "        \n",
        "\n",
        "age_nan_replace(means_title, train, title_list)\n",
        "#age_nan_replace(means_title, test_set, title_list)"
      ]
    },
    {
      "cell_type": "code",
      "execution_count": 21,
      "metadata": {
        "colab": {
          "base_uri": "https://localhost:8080/",
          "height": 206
        },
        "id": "l1W298ZLyt3j",
        "outputId": "b28b1c70-97e3-4504-f0b5-2bdadbaa9b2a"
      },
      "outputs": [
        {
          "output_type": "execute_result",
          "data": {
            "text/plain": [
              "     PassengerId  Survived  Pclass     Sex        Age  SibSp  Parch   Fare  \\\n",
              "886          887         0       2    male  27.000000      0      0  13.00   \n",
              "887          888         1       1  female  19.000000      0      0  30.00   \n",
              "888          889         0       3  female  21.555556      1      2  23.45   \n",
              "889          890         1       1    male  26.000000      0      0  30.00   \n",
              "890          891         0       3    male  32.000000      0      0   7.75   \n",
              "\n",
              "    Embarked     Deck    Title  \n",
              "886        S  Unknown  Officer  \n",
              "887        S        B     Miss  \n",
              "888        S  Unknown     Miss  \n",
              "889        C        C       Mr  \n",
              "890        Q  Unknown       Mr  "
            ],
            "text/html": [
              "\n",
              "  <div id=\"df-e86c8b16-02e5-44bf-8cd4-0c0f915c479d\">\n",
              "    <div class=\"colab-df-container\">\n",
              "      <div>\n",
              "<style scoped>\n",
              "    .dataframe tbody tr th:only-of-type {\n",
              "        vertical-align: middle;\n",
              "    }\n",
              "\n",
              "    .dataframe tbody tr th {\n",
              "        vertical-align: top;\n",
              "    }\n",
              "\n",
              "    .dataframe thead th {\n",
              "        text-align: right;\n",
              "    }\n",
              "</style>\n",
              "<table border=\"1\" class=\"dataframe\">\n",
              "  <thead>\n",
              "    <tr style=\"text-align: right;\">\n",
              "      <th></th>\n",
              "      <th>PassengerId</th>\n",
              "      <th>Survived</th>\n",
              "      <th>Pclass</th>\n",
              "      <th>Sex</th>\n",
              "      <th>Age</th>\n",
              "      <th>SibSp</th>\n",
              "      <th>Parch</th>\n",
              "      <th>Fare</th>\n",
              "      <th>Embarked</th>\n",
              "      <th>Deck</th>\n",
              "      <th>Title</th>\n",
              "    </tr>\n",
              "  </thead>\n",
              "  <tbody>\n",
              "    <tr>\n",
              "      <th>886</th>\n",
              "      <td>887</td>\n",
              "      <td>0</td>\n",
              "      <td>2</td>\n",
              "      <td>male</td>\n",
              "      <td>27.000000</td>\n",
              "      <td>0</td>\n",
              "      <td>0</td>\n",
              "      <td>13.00</td>\n",
              "      <td>S</td>\n",
              "      <td>Unknown</td>\n",
              "      <td>Officer</td>\n",
              "    </tr>\n",
              "    <tr>\n",
              "      <th>887</th>\n",
              "      <td>888</td>\n",
              "      <td>1</td>\n",
              "      <td>1</td>\n",
              "      <td>female</td>\n",
              "      <td>19.000000</td>\n",
              "      <td>0</td>\n",
              "      <td>0</td>\n",
              "      <td>30.00</td>\n",
              "      <td>S</td>\n",
              "      <td>B</td>\n",
              "      <td>Miss</td>\n",
              "    </tr>\n",
              "    <tr>\n",
              "      <th>888</th>\n",
              "      <td>889</td>\n",
              "      <td>0</td>\n",
              "      <td>3</td>\n",
              "      <td>female</td>\n",
              "      <td>21.555556</td>\n",
              "      <td>1</td>\n",
              "      <td>2</td>\n",
              "      <td>23.45</td>\n",
              "      <td>S</td>\n",
              "      <td>Unknown</td>\n",
              "      <td>Miss</td>\n",
              "    </tr>\n",
              "    <tr>\n",
              "      <th>889</th>\n",
              "      <td>890</td>\n",
              "      <td>1</td>\n",
              "      <td>1</td>\n",
              "      <td>male</td>\n",
              "      <td>26.000000</td>\n",
              "      <td>0</td>\n",
              "      <td>0</td>\n",
              "      <td>30.00</td>\n",
              "      <td>C</td>\n",
              "      <td>C</td>\n",
              "      <td>Mr</td>\n",
              "    </tr>\n",
              "    <tr>\n",
              "      <th>890</th>\n",
              "      <td>891</td>\n",
              "      <td>0</td>\n",
              "      <td>3</td>\n",
              "      <td>male</td>\n",
              "      <td>32.000000</td>\n",
              "      <td>0</td>\n",
              "      <td>0</td>\n",
              "      <td>7.75</td>\n",
              "      <td>Q</td>\n",
              "      <td>Unknown</td>\n",
              "      <td>Mr</td>\n",
              "    </tr>\n",
              "  </tbody>\n",
              "</table>\n",
              "</div>\n",
              "      <button class=\"colab-df-convert\" onclick=\"convertToInteractive('df-e86c8b16-02e5-44bf-8cd4-0c0f915c479d')\"\n",
              "              title=\"Convert this dataframe to an interactive table.\"\n",
              "              style=\"display:none;\">\n",
              "        \n",
              "  <svg xmlns=\"http://www.w3.org/2000/svg\" height=\"24px\"viewBox=\"0 0 24 24\"\n",
              "       width=\"24px\">\n",
              "    <path d=\"M0 0h24v24H0V0z\" fill=\"none\"/>\n",
              "    <path d=\"M18.56 5.44l.94 2.06.94-2.06 2.06-.94-2.06-.94-.94-2.06-.94 2.06-2.06.94zm-11 1L8.5 8.5l.94-2.06 2.06-.94-2.06-.94L8.5 2.5l-.94 2.06-2.06.94zm10 10l.94 2.06.94-2.06 2.06-.94-2.06-.94-.94-2.06-.94 2.06-2.06.94z\"/><path d=\"M17.41 7.96l-1.37-1.37c-.4-.4-.92-.59-1.43-.59-.52 0-1.04.2-1.43.59L10.3 9.45l-7.72 7.72c-.78.78-.78 2.05 0 2.83L4 21.41c.39.39.9.59 1.41.59.51 0 1.02-.2 1.41-.59l7.78-7.78 2.81-2.81c.8-.78.8-2.07 0-2.86zM5.41 20L4 18.59l7.72-7.72 1.47 1.35L5.41 20z\"/>\n",
              "  </svg>\n",
              "      </button>\n",
              "      \n",
              "  <style>\n",
              "    .colab-df-container {\n",
              "      display:flex;\n",
              "      flex-wrap:wrap;\n",
              "      gap: 12px;\n",
              "    }\n",
              "\n",
              "    .colab-df-convert {\n",
              "      background-color: #E8F0FE;\n",
              "      border: none;\n",
              "      border-radius: 50%;\n",
              "      cursor: pointer;\n",
              "      display: none;\n",
              "      fill: #1967D2;\n",
              "      height: 32px;\n",
              "      padding: 0 0 0 0;\n",
              "      width: 32px;\n",
              "    }\n",
              "\n",
              "    .colab-df-convert:hover {\n",
              "      background-color: #E2EBFA;\n",
              "      box-shadow: 0px 1px 2px rgba(60, 64, 67, 0.3), 0px 1px 3px 1px rgba(60, 64, 67, 0.15);\n",
              "      fill: #174EA6;\n",
              "    }\n",
              "\n",
              "    [theme=dark] .colab-df-convert {\n",
              "      background-color: #3B4455;\n",
              "      fill: #D2E3FC;\n",
              "    }\n",
              "\n",
              "    [theme=dark] .colab-df-convert:hover {\n",
              "      background-color: #434B5C;\n",
              "      box-shadow: 0px 1px 3px 1px rgba(0, 0, 0, 0.15);\n",
              "      filter: drop-shadow(0px 1px 2px rgba(0, 0, 0, 0.3));\n",
              "      fill: #FFFFFF;\n",
              "    }\n",
              "  </style>\n",
              "\n",
              "      <script>\n",
              "        const buttonEl =\n",
              "          document.querySelector('#df-e86c8b16-02e5-44bf-8cd4-0c0f915c479d button.colab-df-convert');\n",
              "        buttonEl.style.display =\n",
              "          google.colab.kernel.accessAllowed ? 'block' : 'none';\n",
              "\n",
              "        async function convertToInteractive(key) {\n",
              "          const element = document.querySelector('#df-e86c8b16-02e5-44bf-8cd4-0c0f915c479d');\n",
              "          const dataTable =\n",
              "            await google.colab.kernel.invokeFunction('convertToInteractive',\n",
              "                                                     [key], {});\n",
              "          if (!dataTable) return;\n",
              "\n",
              "          const docLinkHtml = 'Like what you see? Visit the ' +\n",
              "            '<a target=\"_blank\" href=https://colab.research.google.com/notebooks/data_table.ipynb>data table notebook</a>'\n",
              "            + ' to learn more about interactive tables.';\n",
              "          element.innerHTML = '';\n",
              "          dataTable['output_type'] = 'display_data';\n",
              "          await google.colab.output.renderOutput(dataTable, element);\n",
              "          const docLink = document.createElement('div');\n",
              "          docLink.innerHTML = docLinkHtml;\n",
              "          element.appendChild(docLink);\n",
              "        }\n",
              "      </script>\n",
              "    </div>\n",
              "  </div>\n",
              "  "
            ]
          },
          "metadata": {},
          "execution_count": 21
        }
      ],
      "source": [
        "train.tail()"
      ]
    },
    {
      "cell_type": "code",
      "execution_count": 22,
      "metadata": {
        "colab": {
          "base_uri": "https://localhost:8080/"
        },
        "id": "oKTsB0fPy3BY",
        "outputId": "9d2a7d83-a3b3-4870-bd7f-6dc7976c6ce2"
      },
      "outputs": [
        {
          "output_type": "execute_result",
          "data": {
            "text/plain": [
              "PassengerId     0\n",
              "Pclass          0\n",
              "Sex             0\n",
              "Age            86\n",
              "SibSp           0\n",
              "Parch           0\n",
              "Ticket          0\n",
              "Fare            1\n",
              "Embarked        0\n",
              "Deck            0\n",
              "Title           0\n",
              "dtype: int64"
            ]
          },
          "metadata": {},
          "execution_count": 22
        }
      ],
      "source": [
        "test.isnull().sum()"
      ]
    },
    {
      "cell_type": "code",
      "execution_count": 23,
      "metadata": {
        "id": "T0H8z8FuzEA_"
      },
      "outputs": [],
      "source": [
        "import numpy\n",
        "X_train_age=numpy.array([train[\"Age\"]])\n",
        "X_train_pclass=numpy.array(train[\"Pclass\"])\n",
        "X_train_SibSp=numpy.array(train[\"SibSp\"])\n",
        "X_train_Parch=numpy.array(train[\"Parch\"])\n",
        "X_train_Fare=numpy.array(train[\"Fare\"])\n",
        "X_train_Title=numpy.array(train[\"Title\"])\n",
        "X_train_Embarked=numpy.array(train[\"Embarked\"])\n",
        "X_train_Sex=numpy.array(train[\"Sex\"])\n",
        "X_train_Survived=numpy.array(train[\"Survived\"])\n",
        "\n",
        "X_test_age=numpy.array([test[\"Age\"]])\n",
        "X_test_pclass=numpy.array(test[\"Pclass\"])\n",
        "X_test_SibSp=numpy.array(test[\"SibSp\"])\n",
        "X_test_Parch=numpy.array(test[\"Parch\"])\n",
        "X_test_Fare=numpy.array(test[\"Fare\"])\n",
        "X_test_Title=numpy.array(test[\"Title\"])\n",
        "X_test_Embarked=numpy.array(test[\"Embarked\"])\n",
        "X_test_Sex=numpy.array(test[\"Sex\"])\n",
        "\n"
      ]
    },
    {
      "cell_type": "code",
      "execution_count": 24,
      "metadata": {
        "colab": {
          "base_uri": "https://localhost:8080/"
        },
        "id": "LZjBQwFS8h4b",
        "outputId": "06216dcb-5da2-494e-861d-bf3390d393c3"
      },
      "outputs": [
        {
          "output_type": "stream",
          "name": "stdout",
          "text": [
            "[0 1 1 1 0 0 0 0 1 1 1 1 0 0 1 1 0 0 1 1 0 0 1 0 1 1 0 0 1 0 0 1 1 0 0 0 0\n",
            " 0 1 1 1 1 0 1 1 0 0 1 0 1 0 0 1 1 0 0 1 0 1 0 0 1 0 0 0 0 1 0 1 0 0 1 0 0\n",
            " 0 0 0 0 0 1 0 0 1 0 1 1 0 0 1 0 0 0 0 0 0 0 0 0 1 0 1 0 0 0 0 0 1 0 0 1 0\n",
            " 1 0 1 1 0 0 0 0 1 0 0 0 1 0 0 0 0 1 0 0 0 1 1 0 0 1 0 0 0 1 1 1 0 0 0 0 1\n",
            " 0 0 0 1 0 0 0 0 1 0 0 0 0 1 0 0 0 0 1 1 0 0 0 0 1 0 0 0 0 1 0 0 1 0 0 0 1\n",
            " 0 1 0 0 0 1 0 1 0 1 1 0 0 1 1 0 0 0 0 0 1 0 0 1 0 0 1 0 0 0 1 1 0 1 0 0 0\n",
            " 0 0 0 0 0 0 0 1 1 0 0 1 0 1 0 1 0 0 1 1 0 0 0 0 1 1 0 0 0 1 0 0 1 1 1 1 1\n",
            " 1 0 0 0 0 1 0 0 0 1 1 0 0 1 0 1 1 1 0 0 1 0 0 0 0 0 0 0 0 0 1 1 1 0 1 0 0\n",
            " 0 1 0 1 1 0 0 1 0 0 1 1 0 1 1 1 1 0 0 1 1 0 1 1 0 0 1 1 0 1 0 1 1 1 1 0 0\n",
            " 0 1 0 0 1 0 0 0 1 0 0 0 1 1 1 0 0 0 0 0 0 0 0 1 1 1 1 0 0 1 0 0 0 1 1 1 1\n",
            " 0 0 0 0 1 1 1 0 0 0 1 1 0 1 0 0 0 1 0 1 0 0 0 1 1 0 1 0 0 1 0 0 1 0 1 0 0\n",
            " 0 0 1 0 0 1 0 0 1 1 1 0 1 0 0 0 1 0 0 1 1 0 0 0 1 1 0 0 1 1 1 0 0 1 0 0 1\n",
            " 0 0 1 0 1 0 0 0 0 0 0 0 0 1 1 0 0 0 0 0 0 0 0 0 0 1 0 0 1 1 1 0 0 0 0 1 0\n",
            " 0 0 1 0 1 1 0 0 0 0 0 0 0 0 0 1 0 1 0 0 1 1 1 1 0 1 0 0 0 0 0 0 1 0 0 1 0\n",
            " 1 0 1 0 0 1 0 0 1 0 0 0 1 0 0 1 1 1 0 1 0 1 1 1 1 0 0 0 1 0 0 0 0 0 0 0 1\n",
            " 0 1 0 1 1 0 0 0 0 1 0 0 1 0 0 0 1 0 1 0 0 1 1 1 0 1 1 0 0 0 1 0 0 0 0 0 1\n",
            " 0 1 0 0 1 0 0 0 1 0 0 0 0 0 0 0 1 1 1 0 1 0 0 1 0 1 1 0 0 0 0 0 0 0 0 1 0\n",
            " 0 0 0 0 0 1 1 0 0 1 0 0 1 1 0 1 0 0 0 0 1 0 1 0 1 1 0 0 1 0 0 0 0 0 0 0 0\n",
            " 0 0 0 1 1 0 0 0 0 0 0 1 1 0 1 0 0 0 0 0 0 0 0 1 0 1 0 0 0 0 0 1 0 0 1 0 1\n",
            " 0 0 0 1 0 1 0 1 0 0 0 0 0 1 1 0 0 1 0 0 0 0 0 1 1 0 1 1 0 0 0 0 0 1 0 0 0\n",
            " 0 0 1 0 0 0 0 1 0 0 1 0 0 0 1 0 0 0 0 1 0 0 0 1 0 1 0 1 0 0 0 0 1 0 1 0 0\n",
            " 1 0 1 1 1 0 0 0 0 1 0 0 0 0 0 1 0 0 0 1 1 0 1 0 1 0 0 0 0 0 1 0 1 0 0 0 1\n",
            " 0 0 1 0 0 0 1 0 0 1 0 0 0 0 0 1 1 0 0 0 0 1 0 0 0 0 0 0 1 0 0 0 0 0 0 1 0\n",
            " 0 1 1 1 1 1 0 1 0 0 0 1 1 0 1 1 0 0 0 0 1 0 0 1 1 0 0 0 1 1 0 1 0 0 1 0 1\n",
            " 1 0 0]\n"
          ]
        }
      ],
      "source": [
        "mask = X_train_Sex == \"male\"\n",
        "X_train_Sex[mask] = 0\n",
        "\n",
        "mask1=X_train_Sex==\"female\"\n",
        "X_train_Sex[mask1]=1\n",
        "\n",
        "print(X_train_Sex)"
      ]
    },
    {
      "cell_type": "code",
      "execution_count": 25,
      "metadata": {
        "colab": {
          "base_uri": "https://localhost:8080/"
        },
        "id": "PPA9SHOn8t9x",
        "outputId": "dd1d990f-307a-480f-fc8a-62af10bf3010"
      },
      "outputs": [
        {
          "output_type": "stream",
          "name": "stdout",
          "text": [
            "['S' 'C' 'S' 'S' 'S' 'Q' 'S' 'S' 'S' 'C' 'S' 'S' 'S' 'S' 'S' 'S' 'Q' 'S'\n",
            " 'S' 'C' 'S' 'S' 'Q' 'S' 'S' 'S' 'C' 'S' 'Q' 'S' 'C' 'C' 'Q' 'S' 'C' 'S'\n",
            " 'C' 'S' 'S' 'C' 'S' 'S' 'C' 'C' 'Q' 'S' 'Q' 'Q' 'C' 'S' 'S' 'S' 'C' 'S'\n",
            " 'C' 'S' 'S' 'C' 'S' 'S' 'C' 'S' 'S' 'S' 'C' 'C' 'S' 'S' 'S' 'S' 'S' 'S'\n",
            " 'S' 'C' 'S' 'S' 'S' 'S' 'S' 'S' 'S' 'S' 'Q' 'S' 'S' 'S' 'S' 'S' 'S' 'S'\n",
            " 'S' 'S' 'S' 'S' 'S' 'S' 'C' 'C' 'S' 'S' 'S' 'S' 'S' 'S' 'S' 'S' 'S' 'S'\n",
            " 'S' 'Q' 'S' 'C' 'S' 'S' 'C' 'S' 'Q' 'S' 'C' 'S' 'S' 'S' 'C' 'S' 'S' 'C'\n",
            " 'Q' 'S' 'C' 'S' 'C' 'S' 'S' 'S' 'S' 'C' 'S' 'S' 'S' 'C' 'C' 'S' 'S' 'Q'\n",
            " 'S' 'S' 'S' 'S' 'S' 'S' 'S' 'S' 'S' 'S' 'S' 'C' 'Q' 'S' 'S' 'S' 'S' 'S'\n",
            " 'S' 'S' 'S' 'S' 'S' 'S' 'S' 'S' 'S' 'Q' 'S' 'S' 'C' 'S' 'S' 'C' 'S' 'S'\n",
            " 'S' 'C' 'S' 'S' 'S' 'S' 'Q' 'S' 'Q' 'S' 'S' 'S' 'S' 'S' 'C' 'C' 'Q' 'S'\n",
            " 'Q' 'S' 'S' 'S' 'S' 'C' 'S' 'S' 'S' 'C' 'Q' 'C' 'S' 'S' 'S' 'S' 'Q' 'C'\n",
            " 'S' 'S' 'C' 'S' 'S' 'S' 'S' 'S' 'S' 'S' 'S' 'S' 'S' 'S' 'S' 'S' 'S' 'S'\n",
            " 'S' 'S' 'S' 'S' 'S' 'S' 'C' 'Q' 'S' 'S' 'C' 'Q' 'S' 'S' 'S' 'S' 'S' 'S'\n",
            " 'S' 'S' 'S' 'C' 'C' 'S' 'C' 'S' 'Q' 'S' 'S' 'S' 'Q' 'S' 'S' 'S' 'S' 'S'\n",
            " 'S' 'S' 'S' 'C' 'Q' 'S' 'S' 'S' 'Q' 'S' 'Q' 'S' 'S' 'S' 'S' 'C' 'S' 'S'\n",
            " 'S' 'Q' 'S' 'C' 'C' 'S' 'S' 'C' 'C' 'S' 'S' 'C' 'Q' 'Q' 'S' 'Q' 'S' 'S'\n",
            " 'C' 'C' 'C' 'C' 'C' 'C' 'S' 'S' 'S' 'S' 'S' 'S' 'S' 'C' 'S' 'S' 'Q' 'S'\n",
            " 'S' 'C' 'S' 'S' 'S' 'C' 'Q' 'S' 'S' 'S' 'S' 'S' 'S' 'C' 'S' 'S' 'S' 'S'\n",
            " 'S' 'S' 'S' 'S' 'S' 'S' 'S' 'S' 'S' 'S' 'C' 'S' 'C' 'S' 'S' 'S' 'Q' 'Q'\n",
            " 'S' 'C' 'C' 'S' 'Q' 'S' 'C' 'C' 'Q' 'C' 'C' 'S' 'S' 'C' 'S' 'C' 'S' 'C'\n",
            " 'C' 'S' 'C' 'C' 'S' 'S' 'S' 'S' 'S' 'S' 'Q' 'C' 'S' 'S' 'S' 'C' 'S' 'S'\n",
            " 'S' 'S' 'S' 'S' 'S' 'S' 'S' 'S' 'S' 'S' 'S' 'S' 'S' 'S' 'S' 'Q' 'Q' 'S'\n",
            " 'S' 'S' 'S' 'S' 'S' 'S' 'C' 'Q' 'S' 'S' 'S' 'S' 'S' 'S' 'Q' 'S' 'S' 'S'\n",
            " 'S' 'S' 'S' 'S' 'S' 'S' 'S' 'S' 'S' 'S' 'S' 'S' 'S' 'S' 'S' 'S' 'C' 'S'\n",
            " 'S' 'S' 'C' 'C' 'S' 'C' 'S' 'S' 'S' 'Q' 'S' 'S' 'S' 'S' 'S' 'S' 'S' 'S'\n",
            " 'Q' 'C' 'S' 'S' 'S' 'C' 'S' 'S' 'S' 'S' 'S' 'S' 'S' 'S' 'S' 'S' 'C' 'S'\n",
            " 'S' 'C' 'S' 'S' 'S' 'S' 'S' 'C' 'S' 'C' 'C' 'S' 'S' 'S' 'S' 'Q' 'Q' 'S'\n",
            " 'S' 'C' 'S' 'S' 'S' 'S' 'Q' 'S' 'S' 'C' 'S' 'S' 'S' 'Q' 'S' 'S' 'S' 'S'\n",
            " 'C' 'C' 'C' 'Q' 'S' 'S' 'S' 'S' 'S' 'C' 'C' 'C' 'S' 'S' 'S' 'C' 'S' 'C'\n",
            " 'S' 'S' 'S' 'S' 'C' 'S' 'S' 'C' 'S' 'S' 'C' 'S' 'Q' 'C' 'S' 'S' 'C' 'C'\n",
            " 'S' 'S' 'Q' 'S' 'S' 'S' 'S' 'S' 'S' 'S' 'C' 'S' 'S' 'S' 'S' 'Q' 'S' 'S'\n",
            " 'S' 'S' 'C' 'S' 'S' 'C' 'S' 'C' 'C' 'S' 'S' 'C' 'S' 'S' 'S' 'C' 'S' 'Q'\n",
            " 'S' 'S' 'S' 'S' 'C' 'C' 'S' 'S' 'S' 'S' 'C' 'S' 'S' 'S' 'C' 'S' 'S' 'S'\n",
            " 'Q' 'Q' 'S' 'S' 'S' 'S' 'S' 'S' 'C' 'S' 'C' 'S' 'S' 'S' 'Q' 'S' 'S' 'Q'\n",
            " 'S' 'S' 'C' 'S' 'S' 'S' 'S' 'S' 'S' 'S' 'S' 'C' 'S' 'S' 'C' 'C' 'S' 'C'\n",
            " 'S' 'S' 'S' 'S' 'S' 'Q' 'Q' 'S' 'S' 'Q' 'S' 'C' 'S' 'C' 'S' 'S' 'S' 'S'\n",
            " 'S' 'S' 'S' 'S' 'S' 'S' 'S' 'S' 'S' 'S' 'S' 'S' 'S' 'C' 'Q' 'C' 'S' 'S'\n",
            " 'S' 'C' 'S' 'S' 'S' 'S' 'S' 'C' 'S' 'C' 'S' 'S' 'S' 'Q' 'C' 'S' 'C' 'S'\n",
            " 'C' 'Q' 'S' 'S' 'S' 'S' 'S' 'C' 'C' 'S' 'S' 'S' 'S' 'S' 'C' 'S' 'Q' 'S'\n",
            " 'S' 'S' 'S' 'S' 'S' 'S' 'S' 'Q' 'S' 'S' 'S' 'C' 'S' 'S' 'S' 'S' 'S' 'C'\n",
            " 'S' 'S' 'S' 'S' 'C' 'S' 'S' 'S' 'S' 'S' 'S' 'Q' 'S' 'S' 'S' 'S' 'S' 'S'\n",
            " 'S' 'S' 'S' 'S' 'S' 'S' 'C' 'S' 'S' 'S' 'C' 'Q' 'Q' 'S' 'S' 'S' 'S' 'C'\n",
            " 'S' 'S' 'Q' 'S' 'Q' 'S' 'C' 'S' 'S' 'S' 'S' 'S' 'S' 'Q' 'S' 'C' 'Q' 'S'\n",
            " 'S' 'C' 'S' 'S' 'S' 'S' 'C' 'S' 'S' 'S' 'S' 'C' 'S' 'S' 'S' 'S' 'S' 'S'\n",
            " 'S' 'S' 'S' 'S' 'S' 'S' 'S' 'C' 'S' 'S' 'S' 'S' 'S' 'S' 'S' 'Q' 'S' 'C'\n",
            " 'Q' 'S' 'C' 'S' 'C' 'S' 'S' 'C' 'S' 'S' 'S' 'C' 'S' 'S' 'C' 'C' 'S' 'S'\n",
            " 'S' 'C' 'S' 'C' 'S' 'S' 'C' 'S' 'S' 'S' 'S' 'S' 'C' 'C' 'S' 'S' 'S' 'S'\n",
            " 'S' 'S' 'C' 'S' 'S' 'S' 'S' 'S' 'S' 'S' 'C' 'C' 'S' 'S' 'S' 'C' 'S' 'S'\n",
            " 'S' 'S' 'S' 'Q' 'S' 'S' 'S' 'C' 'Q']\n",
            "[2 0 2 2 2 1 2 2 2 0 2 2 2 2 2 2 1 2 2 0 2 2 1 2 2 2 0 2 1 2 0 0 1 2 0 2 0\n",
            " 2 2 0 2 2 0 0 1 2 1 1 0 2 2 2 0 2 0 2 2 0 2 2 0 2 2 2 0 0 2 2 2 2 2 2 2 0\n",
            " 2 2 2 2 2 2 2 2 1 2 2 2 2 2 2 2 2 2 2 2 2 2 0 0 2 2 2 2 2 2 2 2 2 2 2 1 2\n",
            " 0 2 2 0 2 1 2 0 2 2 2 0 2 2 0 1 2 0 2 0 2 2 2 2 0 2 2 2 0 0 2 2 1 2 2 2 2\n",
            " 2 2 2 2 2 2 2 0 1 2 2 2 2 2 2 2 2 2 2 2 2 2 2 1 2 2 0 2 2 0 2 2 2 0 2 2 2\n",
            " 2 1 2 1 2 2 2 2 2 0 0 1 2 1 2 2 2 2 0 2 2 2 0 1 0 2 2 2 2 1 0 2 2 0 2 2 2\n",
            " 2 2 2 2 2 2 2 2 2 2 2 2 2 2 2 2 2 2 0 1 2 2 0 1 2 2 2 2 2 2 2 2 2 0 0 2 0\n",
            " 2 1 2 2 2 1 2 2 2 2 2 2 2 2 0 1 2 2 2 1 2 1 2 2 2 2 0 2 2 2 1 2 0 0 2 2 0\n",
            " 0 2 2 0 1 1 2 1 2 2 0 0 0 0 0 0 2 2 2 2 2 2 2 0 2 2 1 2 2 0 2 2 2 0 1 2 2\n",
            " 2 2 2 2 0 2 2 2 2 2 2 2 2 2 2 2 2 2 2 0 2 0 2 2 2 1 1 2 0 0 2 1 2 0 0 1 0\n",
            " 0 2 2 0 2 0 2 0 0 2 0 0 2 2 2 2 2 2 1 0 2 2 2 0 2 2 2 2 2 2 2 2 2 2 2 2 2\n",
            " 2 2 2 2 1 1 2 2 2 2 2 2 2 0 1 2 2 2 2 2 2 1 2 2 2 2 2 2 2 2 2 2 2 2 2 2 2\n",
            " 2 2 2 2 0 2 2 2 0 0 2 0 2 2 2 1 2 2 2 2 2 2 2 2 1 0 2 2 2 0 2 2 2 2 2 2 2\n",
            " 2 2 2 0 2 2 0 2 2 2 2 2 0 2 0 0 2 2 2 2 1 1 2 2 0 2 2 2 2 1 2 2 0 2 2 2 1\n",
            " 2 2 2 2 0 0 0 1 2 2 2 2 2 0 0 0 2 2 2 0 2 0 2 2 2 2 0 2 2 0 2 2 0 2 1 0 2\n",
            " 2 0 0 2 2 1 2 2 2 2 2 2 2 0 2 2 2 2 1 2 2 2 2 0 2 2 0 2 0 0 2 2 0 2 2 2 0\n",
            " 2 1 2 2 2 2 0 0 2 2 2 2 0 2 2 2 0 2 2 2 1 1 2 2 2 2 2 2 0 2 0 2 2 2 1 2 2\n",
            " 1 2 2 0 2 2 2 2 2 2 2 2 0 2 2 0 0 2 0 2 2 2 2 2 1 1 2 2 1 2 0 2 0 2 2 2 2\n",
            " 2 2 2 2 2 2 2 2 2 2 2 2 2 0 1 0 2 2 2 0 2 2 2 2 2 0 2 0 2 2 2 1 0 2 0 2 0\n",
            " 1 2 2 2 2 2 0 0 2 2 2 2 2 0 2 1 2 2 2 2 2 2 2 2 1 2 2 2 0 2 2 2 2 2 0 2 2\n",
            " 2 2 0 2 2 2 2 2 2 1 2 2 2 2 2 2 2 2 2 2 2 2 0 2 2 2 0 1 1 2 2 2 2 0 2 2 1\n",
            " 2 1 2 0 2 2 2 2 2 2 1 2 0 1 2 2 0 2 2 2 2 0 2 2 2 2 0 2 2 2 2 2 2 2 2 2 2\n",
            " 2 2 2 0 2 2 2 2 2 2 2 1 2 0 1 2 0 2 0 2 2 0 2 2 2 0 2 2 0 0 2 2 2 0 2 0 2\n",
            " 2 0 2 2 2 2 2 0 0 2 2 2 2 2 2 0 2 2 2 2 2 2 2 0 0 2 2 2 0 2 2 2 2 2 1 2 2\n",
            " 2 0 1]\n"
          ]
        }
      ],
      "source": [
        "le = LabelEncoder()\n",
        "X_train_Embarked = le.fit_transform(train['Embarked'])\n",
        "\n",
        "Embarked_decoded = le.inverse_transform(X_train_Embarked)\n",
        "\n",
        "print(Embarked_decoded)\n",
        "print(X_train_Embarked)"
      ]
    },
    {
      "cell_type": "code",
      "execution_count": 26,
      "metadata": {
        "colab": {
          "base_uri": "https://localhost:8080/"
        },
        "id": "_idbPq7rAJW0",
        "outputId": "b97653fc-5084-4dee-c865-ff8e6127c150"
      },
      "outputs": [
        {
          "output_type": "stream",
          "name": "stdout",
          "text": [
            "0           Mr\n",
            "1           Mr\n",
            "2         Miss\n",
            "3           Mr\n",
            "4           Mr\n",
            "        ...   \n",
            "886    Officer\n",
            "887       Miss\n",
            "888       Miss\n",
            "889         Mr\n",
            "890         Mr\n",
            "Name: Title, Length: 891, dtype: object\n",
            "[2 2 1 2 2 2 2 0 2 2 1 1 2 2 1 2 0 3 2 2 2 2 1 2 1 2 2 2 1 2 5 2 1 5 2 2 2\n",
            " 2 1 4 2 2 2 1 1 2 2 4 2 2 0 2 2 2 2 2 1 2 1 0 2 1 2 0 2 0 2 2 1 2 2 1 2 2\n",
            " 2 2 2 2 0 1 2 2 1 2 1 2 2 2 1 2 2 4 2 2 2 2 2 2 2 2 1 2 2 2 2 2 1 2 2 1 2\n",
            " 1 2 1 1 2 2 2 2 1 2 2 2 1 2 4 2 2 1 2 4 2 2 2 2 2 1 2 2 2 2 1 2 2 4 2 2 1\n",
            " 2 4 4 2 2 2 2 3 1 2 2 0 2 2 2 2 0 0 2 2 2 2 2 0 1 2 2 2 0 1 2 2 1 2 0 0 1\n",
            " 2 2 2 2 2 2 2 1 0 2 1 2 2 1 1 2 2 2 2 2 1 2 2 1 2 2 1 2 2 2 1 1 2 1 2 2 2\n",
            " 2 2 2 2 2 2 2 1 2 2 2 1 2 1 2 4 2 2 1 1 4 2 2 4 1 2 2 4 2 2 2 2 2 2 2 1 1\n",
            " 2 2 0 2 2 1 2 2 2 2 1 2 2 2 2 1 4 1 2 0 2 2 2 2 2 2 2 2 2 2 1 1 2 2 1 2 2\n",
            " 2 1 2 2 1 2 2 1 3 0 1 2 2 1 1 1 2 2 2 1 2 4 1 2 2 2 1 2 2 1 2 2 2 1 1 2 2\n",
            " 2 2 2 2 1 2 2 0 1 4 2 2 1 1 2 0 2 2 3 2 2 2 2 1 1 1 1 2 2 2 2 2 2 2 2 1 3\n",
            " 2 2 2 2 1 2 1 2 2 2 1 1 2 2 2 2 0 1 2 1 2 2 2 1 2 2 1 2 4 2 2 3 1 2 1 2 2\n",
            " 0 2 1 2 2 1 2 2 2 4 1 2 1 2 2 3 2 2 2 2 1 2 2 2 2 2 2 2 1 1 2 2 2 2 2 2 3\n",
            " 3 0 1 2 1 4 2 2 2 2 2 2 2 2 1 2 2 2 2 2 2 2 2 2 2 1 2 2 2 2 1 2 2 2 2 1 0\n",
            " 2 2 2 2 1 2 2 2 0 2 2 2 2 2 2 1 2 2 2 2 1 1 1 1 2 2 2 2 2 2 2 2 2 4 2 2 2\n",
            " 2 2 1 2 2 2 2 2 1 2 2 2 1 2 2 2 1 1 4 1 2 1 1 1 1 2 2 2 2 4 2 0 2 2 2 2 1\n",
            " 2 5 2 2 2 2 2 2 2 1 2 2 2 2 2 2 2 2 1 2 2 1 2 2 2 1 2 2 2 2 1 2 2 2 2 2 2\n",
            " 2 1 2 2 1 2 2 5 2 2 2 2 2 2 2 2 2 1 2 2 1 2 2 1 2 2 1 2 2 2 2 2 2 2 4 1 2\n",
            " 2 2 2 4 2 1 1 2 4 2 2 2 1 1 2 1 2 2 4 2 1 2 1 2 1 1 2 2 2 2 2 4 2 4 4 2 2\n",
            " 2 3 2 2 2 2 2 3 2 2 2 1 2 2 1 2 2 2 2 2 2 2 2 1 2 1 2 2 4 2 2 1 2 2 2 2 1\n",
            " 2 2 2 2 2 1 0 1 2 2 2 2 2 4 1 2 2 1 2 2 2 2 2 2 1 2 1 1 2 2 2 2 3 2 2 2 2\n",
            " 2 2 1 2 2 4 2 1 2 2 1 0 2 2 2 0 2 2 2 5 2 2 2 2 2 2 4 1 2 2 2 2 2 2 2 2 2\n",
            " 1 2 2 1 2 2 2 2 2 1 0 0 2 2 2 1 2 2 2 4 2 2 2 2 4 0 0 2 2 4 1 2 2 2 2 2 1\n",
            " 2 2 1 2 2 0 2 2 5 2 0 2 2 0 2 2 2 0 2 2 2 1 2 2 2 2 2 2 1 2 2 2 2 2 4 2 0\n",
            " 2 1 1 2 2 2 2 2 2 2 2 2 1 2 2 1 2 2 0 2 2 2 2 2 1 2 2 2 2 2 2 1 2 2 2 4 1\n",
            " 1 2 2]\n"
          ]
        }
      ],
      "source": [
        "le = LabelEncoder()\n",
        "print(train[\"Title\"])\n",
        "X_train_Title= le.fit_transform(train['Title'])\n",
        "\n",
        "print(X_train_Title)"
      ]
    },
    {
      "cell_type": "code",
      "execution_count": 27,
      "metadata": {
        "colab": {
          "base_uri": "https://localhost:8080/"
        },
        "id": "HNCVk8JhA7xA",
        "outputId": "e3255ad0-0775-493c-a318-4927e3686171"
      },
      "outputs": [
        {
          "output_type": "stream",
          "name": "stdout",
          "text": [
            "[8 2 8 2 8 8 4 8 8 8 6 2 8 8 8 8 8 8 8 8 8 3 8 0 8 8 8 2 8 8 8 1 8 8 8 8 8\n",
            " 8 8 8 8 8 8 8 8 8 8 8 8 8 8 8 3 8 1 2 8 8 8 8 8 1 2 8 8 8 5 8 8 8 8 8 8 8\n",
            " 8 5 8 8 8 8 8 8 8 8 8 8 8 8 2 8 8 8 4 8 8 8 0 3 8 8 8 8 3 8 8 8 8 8 8 8 2\n",
            " 8 8 8 8 8 8 8 1 8 8 8 8 4 3 8 8 8 4 8 8 8 8 8 8 8 3 2 8 1 8 8 8 8 8 8 8 8\n",
            " 5 8 8 2 8 8 8 8 8 8 8 8 8 8 8 8 8 8 4 8 8 8 1 8 8 8 0 8 8 2 8 8 8 8 8 5 8\n",
            " 0 8 8 8 8 8 8 8 5 1 1 8 8 8 8 8 8 8 8 8 6 8 8 8 0 8 8 8 8 8 3 8 8 3 8 8 8\n",
            " 8 8 2 8 8 8 8 8 2 8 8 8 8 8 8 8 8 8 8 8 8 8 8 2 8 8 3 8 8 6 2 8 8 8 8 1 8\n",
            " 8 8 8 4 1 8 8 8 8 2 2 8 8 8 2 8 3 8 8 8 8 8 8 8 8 0 8 8 8 8 8 8 1 3 8 8 8\n",
            " 8 2 2 1 8 8 8 4 8 2 8 2 8 4 2 1 8 8 8 8 8 8 2 4 8 8 8 8 8 2 8 3 8 1 8 2 2\n",
            " 8 8 8 2 4 8 7 5 2 8 8 8 5 8 8 8 8 8 2 8 8 8 8 4 8 8 8 8 8 8 8 8 8 3 8 8 1\n",
            " 4 8 8 8 8 8 8 2 8 8 8 8 8 8 8 8 8 8 8 8 1 8 8 3 6 8 8 8 8 8 8 8 8 8 8 8 8\n",
            " 8 8 8 8 8 2 8 8 8 8 8 8 8 8 8 8 8 8 8 8 8 8 4 2 8 8 8 4 1 8 8 2 8 8 8 8 8\n",
            " 8 0 8 8 8 2 8 8 2 2 8 8 4 3 8 8 4 8 4 8 8 8 8 8 8 8 8 8 8 3 8 0 8 8 8 8 8\n",
            " 8 8 8 1 8 2 1 8 8 8 8 2 8 8 8 3 8 2 8 8 8 8 8 1 2 8 8 8 8 8 8 4 8 8 3 5 8\n",
            " 8 8 1 8 8 1 8 8 8 2 8 8 8 8 8 8 8 8 1 8 8 1 1 8 8 8 2 8 8 8 8 8 2 8 8 8 8\n",
            " 8 0 8 4 8 8 8 8 8 8 8 8 8 8 8 8 2 4 8 8 8 8 4 8 8 8 2 8 0 8 4 8 1 8 8 8 3\n",
            " 8 8 8 8 8 8 8 0 8 8 8 8 8 8 8 8 8 2 8 8 8 8 8 8 8 8 5 8 8 3 8 8 8 3 8 3 8\n",
            " 8 0 8 1 8 8 8 8 8 8 8 8 1 8 8 8 3 8 0 8 8 8 8 8 8 8 8 8 8 8 3 8 8 4 8 8 8\n",
            " 8 8 8 2 8 1 8 8 8 8 8 8 8 1 8 3 8 8 8 8 8 8 8 1 1 8 8 8 8 8 8 8 2 5 2 4 8\n",
            " 8 8 8 8 4 8 8 2 2 2 8 8 5 2 4 8 8 8 8 8 8 4 8 8 8 8 8 1 8 8 8 8 8 8 1 8 8\n",
            " 3 2 1 8 8 1 8 8 3 8 8 4 8 8 8 8 8 8 8 1 8 8 8 1 8 3 8 8 8 8 8 8 4 8 8 8 5\n",
            " 8 8 1 8 1 3 8 8 8 8 8 8 1 8 8 8 8 8 8 3 8 8 8 8 8 1 8 8 8 0 8 8 4 8 8 8 8\n",
            " 8 1 8 8 8 8 1 8 8 4 8 8 8 8 8 1 8 8 8 8 8 4 8 8 8 2 8 8 8 8 8 8 8 8 8 2 8\n",
            " 8 8 3 8 8 8 4 8 8 8 8 3 8 8 8 8 0 8 8 8 3 1 8 8 8 8 8 8 2 8 8 8 8 8 8 8 1\n",
            " 8 2 8]\n"
          ]
        }
      ],
      "source": [
        "le = LabelEncoder()\n",
        "X_train_Deck = le.fit_transform(train['Deck'])\n",
        "\n",
        "print(X_train_Deck)"
      ]
    },
    {
      "cell_type": "code",
      "execution_count": 27,
      "metadata": {
        "id": "fDKun5i5A-QZ"
      },
      "outputs": [],
      "source": []
    },
    {
      "cell_type": "code",
      "source": [
        "print(X_train_Embarked.shape)\n",
        "print(X_train_age.shape)\n",
        "print(X_train_Sex.shape)\n",
        "print(X_train_SibSp.shape)\n",
        "print(X_train_Parch.shape)\n",
        "print(X_train_Title.shape)\n",
        "print(X_train_Fare.shape)\n",
        "print(X_train_pclass.shape)\n",
        "\n",
        "print(X_train_age.shape)\n"
      ],
      "metadata": {
        "colab": {
          "base_uri": "https://localhost:8080/"
        },
        "id": "LMQMs5HbmQff",
        "outputId": "bf061eca-fed1-4c66-a164-e53ec0ea391a"
      },
      "execution_count": 28,
      "outputs": [
        {
          "output_type": "stream",
          "name": "stdout",
          "text": [
            "(891,)\n",
            "(1, 891)\n",
            "(891,)\n",
            "(891,)\n",
            "(891,)\n",
            "(891,)\n",
            "(891,)\n",
            "(891,)\n",
            "(1, 891)\n"
          ]
        }
      ]
    },
    {
      "cell_type": "code",
      "source": [
        "test['Sex'] = test['Sex'].map({'male':0, 'female':1})\n",
        "test['Embarked'] = test['Embarked'].map({'C':0, 'Q':1, 'S':2})\n",
        "test = test.drop(columns=['Ticket', 'PassengerId'])\n",
        "\n",
        "age_nan_replace(means_title, test, title_list)"
      ],
      "metadata": {
        "id": "KhCHD-fKq3wD"
      },
      "execution_count": 30,
      "outputs": []
    },
    {
      "cell_type": "code",
      "source": [
        "test.head()"
      ],
      "metadata": {
        "colab": {
          "base_uri": "https://localhost:8080/",
          "height": 206
        },
        "id": "XCxAkF3sl7SO",
        "outputId": "060588d3-1ce2-44cf-ddcf-57ae8ed96528"
      },
      "execution_count": 31,
      "outputs": [
        {
          "output_type": "execute_result",
          "data": {
            "text/plain": [
              "   Pclass  Sex   Age  SibSp  Parch     Fare  Embarked     Deck Title\n",
              "0       3    0  34.5      0      0   7.8292         1  Unknown    Mr\n",
              "1       3    1  47.0      1      0   7.0000         2  Unknown    Mr\n",
              "2       2    0  62.0      0      0   9.6875         1  Unknown    Mr\n",
              "3       3    0  27.0      0      0   8.6625         2  Unknown    Mr\n",
              "4       3    1  22.0      1      1  12.2875         2  Unknown    Mr"
            ],
            "text/html": [
              "\n",
              "  <div id=\"df-61f9672b-7594-4157-a778-e4b8fc938929\">\n",
              "    <div class=\"colab-df-container\">\n",
              "      <div>\n",
              "<style scoped>\n",
              "    .dataframe tbody tr th:only-of-type {\n",
              "        vertical-align: middle;\n",
              "    }\n",
              "\n",
              "    .dataframe tbody tr th {\n",
              "        vertical-align: top;\n",
              "    }\n",
              "\n",
              "    .dataframe thead th {\n",
              "        text-align: right;\n",
              "    }\n",
              "</style>\n",
              "<table border=\"1\" class=\"dataframe\">\n",
              "  <thead>\n",
              "    <tr style=\"text-align: right;\">\n",
              "      <th></th>\n",
              "      <th>Pclass</th>\n",
              "      <th>Sex</th>\n",
              "      <th>Age</th>\n",
              "      <th>SibSp</th>\n",
              "      <th>Parch</th>\n",
              "      <th>Fare</th>\n",
              "      <th>Embarked</th>\n",
              "      <th>Deck</th>\n",
              "      <th>Title</th>\n",
              "    </tr>\n",
              "  </thead>\n",
              "  <tbody>\n",
              "    <tr>\n",
              "      <th>0</th>\n",
              "      <td>3</td>\n",
              "      <td>0</td>\n",
              "      <td>34.5</td>\n",
              "      <td>0</td>\n",
              "      <td>0</td>\n",
              "      <td>7.8292</td>\n",
              "      <td>1</td>\n",
              "      <td>Unknown</td>\n",
              "      <td>Mr</td>\n",
              "    </tr>\n",
              "    <tr>\n",
              "      <th>1</th>\n",
              "      <td>3</td>\n",
              "      <td>1</td>\n",
              "      <td>47.0</td>\n",
              "      <td>1</td>\n",
              "      <td>0</td>\n",
              "      <td>7.0000</td>\n",
              "      <td>2</td>\n",
              "      <td>Unknown</td>\n",
              "      <td>Mr</td>\n",
              "    </tr>\n",
              "    <tr>\n",
              "      <th>2</th>\n",
              "      <td>2</td>\n",
              "      <td>0</td>\n",
              "      <td>62.0</td>\n",
              "      <td>0</td>\n",
              "      <td>0</td>\n",
              "      <td>9.6875</td>\n",
              "      <td>1</td>\n",
              "      <td>Unknown</td>\n",
              "      <td>Mr</td>\n",
              "    </tr>\n",
              "    <tr>\n",
              "      <th>3</th>\n",
              "      <td>3</td>\n",
              "      <td>0</td>\n",
              "      <td>27.0</td>\n",
              "      <td>0</td>\n",
              "      <td>0</td>\n",
              "      <td>8.6625</td>\n",
              "      <td>2</td>\n",
              "      <td>Unknown</td>\n",
              "      <td>Mr</td>\n",
              "    </tr>\n",
              "    <tr>\n",
              "      <th>4</th>\n",
              "      <td>3</td>\n",
              "      <td>1</td>\n",
              "      <td>22.0</td>\n",
              "      <td>1</td>\n",
              "      <td>1</td>\n",
              "      <td>12.2875</td>\n",
              "      <td>2</td>\n",
              "      <td>Unknown</td>\n",
              "      <td>Mr</td>\n",
              "    </tr>\n",
              "  </tbody>\n",
              "</table>\n",
              "</div>\n",
              "      <button class=\"colab-df-convert\" onclick=\"convertToInteractive('df-61f9672b-7594-4157-a778-e4b8fc938929')\"\n",
              "              title=\"Convert this dataframe to an interactive table.\"\n",
              "              style=\"display:none;\">\n",
              "        \n",
              "  <svg xmlns=\"http://www.w3.org/2000/svg\" height=\"24px\"viewBox=\"0 0 24 24\"\n",
              "       width=\"24px\">\n",
              "    <path d=\"M0 0h24v24H0V0z\" fill=\"none\"/>\n",
              "    <path d=\"M18.56 5.44l.94 2.06.94-2.06 2.06-.94-2.06-.94-.94-2.06-.94 2.06-2.06.94zm-11 1L8.5 8.5l.94-2.06 2.06-.94-2.06-.94L8.5 2.5l-.94 2.06-2.06.94zm10 10l.94 2.06.94-2.06 2.06-.94-2.06-.94-.94-2.06-.94 2.06-2.06.94z\"/><path d=\"M17.41 7.96l-1.37-1.37c-.4-.4-.92-.59-1.43-.59-.52 0-1.04.2-1.43.59L10.3 9.45l-7.72 7.72c-.78.78-.78 2.05 0 2.83L4 21.41c.39.39.9.59 1.41.59.51 0 1.02-.2 1.41-.59l7.78-7.78 2.81-2.81c.8-.78.8-2.07 0-2.86zM5.41 20L4 18.59l7.72-7.72 1.47 1.35L5.41 20z\"/>\n",
              "  </svg>\n",
              "      </button>\n",
              "      \n",
              "  <style>\n",
              "    .colab-df-container {\n",
              "      display:flex;\n",
              "      flex-wrap:wrap;\n",
              "      gap: 12px;\n",
              "    }\n",
              "\n",
              "    .colab-df-convert {\n",
              "      background-color: #E8F0FE;\n",
              "      border: none;\n",
              "      border-radius: 50%;\n",
              "      cursor: pointer;\n",
              "      display: none;\n",
              "      fill: #1967D2;\n",
              "      height: 32px;\n",
              "      padding: 0 0 0 0;\n",
              "      width: 32px;\n",
              "    }\n",
              "\n",
              "    .colab-df-convert:hover {\n",
              "      background-color: #E2EBFA;\n",
              "      box-shadow: 0px 1px 2px rgba(60, 64, 67, 0.3), 0px 1px 3px 1px rgba(60, 64, 67, 0.15);\n",
              "      fill: #174EA6;\n",
              "    }\n",
              "\n",
              "    [theme=dark] .colab-df-convert {\n",
              "      background-color: #3B4455;\n",
              "      fill: #D2E3FC;\n",
              "    }\n",
              "\n",
              "    [theme=dark] .colab-df-convert:hover {\n",
              "      background-color: #434B5C;\n",
              "      box-shadow: 0px 1px 3px 1px rgba(0, 0, 0, 0.15);\n",
              "      filter: drop-shadow(0px 1px 2px rgba(0, 0, 0, 0.3));\n",
              "      fill: #FFFFFF;\n",
              "    }\n",
              "  </style>\n",
              "\n",
              "      <script>\n",
              "        const buttonEl =\n",
              "          document.querySelector('#df-61f9672b-7594-4157-a778-e4b8fc938929 button.colab-df-convert');\n",
              "        buttonEl.style.display =\n",
              "          google.colab.kernel.accessAllowed ? 'block' : 'none';\n",
              "\n",
              "        async function convertToInteractive(key) {\n",
              "          const element = document.querySelector('#df-61f9672b-7594-4157-a778-e4b8fc938929');\n",
              "          const dataTable =\n",
              "            await google.colab.kernel.invokeFunction('convertToInteractive',\n",
              "                                                     [key], {});\n",
              "          if (!dataTable) return;\n",
              "\n",
              "          const docLinkHtml = 'Like what you see? Visit the ' +\n",
              "            '<a target=\"_blank\" href=https://colab.research.google.com/notebooks/data_table.ipynb>data table notebook</a>'\n",
              "            + ' to learn more about interactive tables.';\n",
              "          element.innerHTML = '';\n",
              "          dataTable['output_type'] = 'display_data';\n",
              "          await google.colab.output.renderOutput(dataTable, element);\n",
              "          const docLink = document.createElement('div');\n",
              "          docLink.innerHTML = docLinkHtml;\n",
              "          element.appendChild(docLink);\n",
              "        }\n",
              "      </script>\n",
              "    </div>\n",
              "  </div>\n",
              "  "
            ]
          },
          "metadata": {},
          "execution_count": 31
        }
      ]
    },
    {
      "cell_type": "code",
      "source": [
        "\n",
        "le = LabelEncoder()\n",
        "print(test[\"Title\"])\n",
        "X_test_Title= le.fit_transform(train['Title'])\n",
        "\n",
        "print(X_test_Title)\n"
      ],
      "metadata": {
        "colab": {
          "base_uri": "https://localhost:8080/"
        },
        "id": "8Tdt8bLYl8zW",
        "outputId": "b68f2ec3-2499-4afc-b957-46275ef0730d"
      },
      "execution_count": 32,
      "outputs": [
        {
          "output_type": "stream",
          "name": "stdout",
          "text": [
            "0           Mr\n",
            "1           Mr\n",
            "2           Mr\n",
            "3           Mr\n",
            "4           Mr\n",
            "        ...   \n",
            "413         Mr\n",
            "414    Royalty\n",
            "415         Mr\n",
            "416         Mr\n",
            "417     Master\n",
            "Name: Title, Length: 418, dtype: object\n",
            "[2 2 1 2 2 2 2 0 2 2 1 1 2 2 1 2 0 3 2 2 2 2 1 2 1 2 2 2 1 2 5 2 1 5 2 2 2\n",
            " 2 1 4 2 2 2 1 1 2 2 4 2 2 0 2 2 2 2 2 1 2 1 0 2 1 2 0 2 0 2 2 1 2 2 1 2 2\n",
            " 2 2 2 2 0 1 2 2 1 2 1 2 2 2 1 2 2 4 2 2 2 2 2 2 2 2 1 2 2 2 2 2 1 2 2 1 2\n",
            " 1 2 1 1 2 2 2 2 1 2 2 2 1 2 4 2 2 1 2 4 2 2 2 2 2 1 2 2 2 2 1 2 2 4 2 2 1\n",
            " 2 4 4 2 2 2 2 3 1 2 2 0 2 2 2 2 0 0 2 2 2 2 2 0 1 2 2 2 0 1 2 2 1 2 0 0 1\n",
            " 2 2 2 2 2 2 2 1 0 2 1 2 2 1 1 2 2 2 2 2 1 2 2 1 2 2 1 2 2 2 1 1 2 1 2 2 2\n",
            " 2 2 2 2 2 2 2 1 2 2 2 1 2 1 2 4 2 2 1 1 4 2 2 4 1 2 2 4 2 2 2 2 2 2 2 1 1\n",
            " 2 2 0 2 2 1 2 2 2 2 1 2 2 2 2 1 4 1 2 0 2 2 2 2 2 2 2 2 2 2 1 1 2 2 1 2 2\n",
            " 2 1 2 2 1 2 2 1 3 0 1 2 2 1 1 1 2 2 2 1 2 4 1 2 2 2 1 2 2 1 2 2 2 1 1 2 2\n",
            " 2 2 2 2 1 2 2 0 1 4 2 2 1 1 2 0 2 2 3 2 2 2 2 1 1 1 1 2 2 2 2 2 2 2 2 1 3\n",
            " 2 2 2 2 1 2 1 2 2 2 1 1 2 2 2 2 0 1 2 1 2 2 2 1 2 2 1 2 4 2 2 3 1 2 1 2 2\n",
            " 0 2 1 2 2 1 2 2 2 4 1 2 1 2 2 3 2 2 2 2 1 2 2 2 2 2 2 2 1 1 2 2 2 2 2 2 3\n",
            " 3 0 1 2 1 4 2 2 2 2 2 2 2 2 1 2 2 2 2 2 2 2 2 2 2 1 2 2 2 2 1 2 2 2 2 1 0\n",
            " 2 2 2 2 1 2 2 2 0 2 2 2 2 2 2 1 2 2 2 2 1 1 1 1 2 2 2 2 2 2 2 2 2 4 2 2 2\n",
            " 2 2 1 2 2 2 2 2 1 2 2 2 1 2 2 2 1 1 4 1 2 1 1 1 1 2 2 2 2 4 2 0 2 2 2 2 1\n",
            " 2 5 2 2 2 2 2 2 2 1 2 2 2 2 2 2 2 2 1 2 2 1 2 2 2 1 2 2 2 2 1 2 2 2 2 2 2\n",
            " 2 1 2 2 1 2 2 5 2 2 2 2 2 2 2 2 2 1 2 2 1 2 2 1 2 2 1 2 2 2 2 2 2 2 4 1 2\n",
            " 2 2 2 4 2 1 1 2 4 2 2 2 1 1 2 1 2 2 4 2 1 2 1 2 1 1 2 2 2 2 2 4 2 4 4 2 2\n",
            " 2 3 2 2 2 2 2 3 2 2 2 1 2 2 1 2 2 2 2 2 2 2 2 1 2 1 2 2 4 2 2 1 2 2 2 2 1\n",
            " 2 2 2 2 2 1 0 1 2 2 2 2 2 4 1 2 2 1 2 2 2 2 2 2 1 2 1 1 2 2 2 2 3 2 2 2 2\n",
            " 2 2 1 2 2 4 2 1 2 2 1 0 2 2 2 0 2 2 2 5 2 2 2 2 2 2 4 1 2 2 2 2 2 2 2 2 2\n",
            " 1 2 2 1 2 2 2 2 2 1 0 0 2 2 2 1 2 2 2 4 2 2 2 2 4 0 0 2 2 4 1 2 2 2 2 2 1\n",
            " 2 2 1 2 2 0 2 2 5 2 0 2 2 0 2 2 2 0 2 2 2 1 2 2 2 2 2 2 1 2 2 2 2 2 4 2 0\n",
            " 2 1 1 2 2 2 2 2 2 2 2 2 1 2 2 1 2 2 0 2 2 2 2 2 1 2 2 2 2 2 2 1 2 2 2 4 1\n",
            " 1 2 2]\n"
          ]
        }
      ]
    },
    {
      "cell_type": "code",
      "source": [
        "fare_mean = test.Fare.mean()\n",
        "test.Fare = test.Fare.fillna(fare_mean)"
      ],
      "metadata": {
        "id": "7VMBM8-Cm4CQ"
      },
      "execution_count": 33,
      "outputs": []
    },
    {
      "cell_type": "code",
      "source": [
        "test.isnull().sum()"
      ],
      "metadata": {
        "colab": {
          "base_uri": "https://localhost:8080/"
        },
        "id": "kCq6ewP8mvn6",
        "outputId": "73eb621f-9df2-430e-cf73-313e9dbf6863"
      },
      "execution_count": 34,
      "outputs": [
        {
          "output_type": "execute_result",
          "data": {
            "text/plain": [
              "Pclass      0\n",
              "Sex         0\n",
              "Age         0\n",
              "SibSp       0\n",
              "Parch       0\n",
              "Fare        0\n",
              "Embarked    0\n",
              "Deck        0\n",
              "Title       0\n",
              "dtype: int64"
            ]
          },
          "metadata": {},
          "execution_count": 34
        }
      ]
    },
    {
      "cell_type": "code",
      "source": [
        "test.head()"
      ],
      "metadata": {
        "colab": {
          "base_uri": "https://localhost:8080/",
          "height": 206
        },
        "id": "Q3WPrX0hnDBN",
        "outputId": "b59acc35-662f-4162-d3ce-f82e0e87fb49"
      },
      "execution_count": 35,
      "outputs": [
        {
          "output_type": "execute_result",
          "data": {
            "text/plain": [
              "   Pclass  Sex   Age  SibSp  Parch     Fare  Embarked     Deck Title\n",
              "0       3    0  34.5      0      0   7.8292         1  Unknown    Mr\n",
              "1       3    1  47.0      1      0   7.0000         2  Unknown    Mr\n",
              "2       2    0  62.0      0      0   9.6875         1  Unknown    Mr\n",
              "3       3    0  27.0      0      0   8.6625         2  Unknown    Mr\n",
              "4       3    1  22.0      1      1  12.2875         2  Unknown    Mr"
            ],
            "text/html": [
              "\n",
              "  <div id=\"df-a99085d0-b1b2-4a55-a538-ac4b68190495\">\n",
              "    <div class=\"colab-df-container\">\n",
              "      <div>\n",
              "<style scoped>\n",
              "    .dataframe tbody tr th:only-of-type {\n",
              "        vertical-align: middle;\n",
              "    }\n",
              "\n",
              "    .dataframe tbody tr th {\n",
              "        vertical-align: top;\n",
              "    }\n",
              "\n",
              "    .dataframe thead th {\n",
              "        text-align: right;\n",
              "    }\n",
              "</style>\n",
              "<table border=\"1\" class=\"dataframe\">\n",
              "  <thead>\n",
              "    <tr style=\"text-align: right;\">\n",
              "      <th></th>\n",
              "      <th>Pclass</th>\n",
              "      <th>Sex</th>\n",
              "      <th>Age</th>\n",
              "      <th>SibSp</th>\n",
              "      <th>Parch</th>\n",
              "      <th>Fare</th>\n",
              "      <th>Embarked</th>\n",
              "      <th>Deck</th>\n",
              "      <th>Title</th>\n",
              "    </tr>\n",
              "  </thead>\n",
              "  <tbody>\n",
              "    <tr>\n",
              "      <th>0</th>\n",
              "      <td>3</td>\n",
              "      <td>0</td>\n",
              "      <td>34.5</td>\n",
              "      <td>0</td>\n",
              "      <td>0</td>\n",
              "      <td>7.8292</td>\n",
              "      <td>1</td>\n",
              "      <td>Unknown</td>\n",
              "      <td>Mr</td>\n",
              "    </tr>\n",
              "    <tr>\n",
              "      <th>1</th>\n",
              "      <td>3</td>\n",
              "      <td>1</td>\n",
              "      <td>47.0</td>\n",
              "      <td>1</td>\n",
              "      <td>0</td>\n",
              "      <td>7.0000</td>\n",
              "      <td>2</td>\n",
              "      <td>Unknown</td>\n",
              "      <td>Mr</td>\n",
              "    </tr>\n",
              "    <tr>\n",
              "      <th>2</th>\n",
              "      <td>2</td>\n",
              "      <td>0</td>\n",
              "      <td>62.0</td>\n",
              "      <td>0</td>\n",
              "      <td>0</td>\n",
              "      <td>9.6875</td>\n",
              "      <td>1</td>\n",
              "      <td>Unknown</td>\n",
              "      <td>Mr</td>\n",
              "    </tr>\n",
              "    <tr>\n",
              "      <th>3</th>\n",
              "      <td>3</td>\n",
              "      <td>0</td>\n",
              "      <td>27.0</td>\n",
              "      <td>0</td>\n",
              "      <td>0</td>\n",
              "      <td>8.6625</td>\n",
              "      <td>2</td>\n",
              "      <td>Unknown</td>\n",
              "      <td>Mr</td>\n",
              "    </tr>\n",
              "    <tr>\n",
              "      <th>4</th>\n",
              "      <td>3</td>\n",
              "      <td>1</td>\n",
              "      <td>22.0</td>\n",
              "      <td>1</td>\n",
              "      <td>1</td>\n",
              "      <td>12.2875</td>\n",
              "      <td>2</td>\n",
              "      <td>Unknown</td>\n",
              "      <td>Mr</td>\n",
              "    </tr>\n",
              "  </tbody>\n",
              "</table>\n",
              "</div>\n",
              "      <button class=\"colab-df-convert\" onclick=\"convertToInteractive('df-a99085d0-b1b2-4a55-a538-ac4b68190495')\"\n",
              "              title=\"Convert this dataframe to an interactive table.\"\n",
              "              style=\"display:none;\">\n",
              "        \n",
              "  <svg xmlns=\"http://www.w3.org/2000/svg\" height=\"24px\"viewBox=\"0 0 24 24\"\n",
              "       width=\"24px\">\n",
              "    <path d=\"M0 0h24v24H0V0z\" fill=\"none\"/>\n",
              "    <path d=\"M18.56 5.44l.94 2.06.94-2.06 2.06-.94-2.06-.94-.94-2.06-.94 2.06-2.06.94zm-11 1L8.5 8.5l.94-2.06 2.06-.94-2.06-.94L8.5 2.5l-.94 2.06-2.06.94zm10 10l.94 2.06.94-2.06 2.06-.94-2.06-.94-.94-2.06-.94 2.06-2.06.94z\"/><path d=\"M17.41 7.96l-1.37-1.37c-.4-.4-.92-.59-1.43-.59-.52 0-1.04.2-1.43.59L10.3 9.45l-7.72 7.72c-.78.78-.78 2.05 0 2.83L4 21.41c.39.39.9.59 1.41.59.51 0 1.02-.2 1.41-.59l7.78-7.78 2.81-2.81c.8-.78.8-2.07 0-2.86zM5.41 20L4 18.59l7.72-7.72 1.47 1.35L5.41 20z\"/>\n",
              "  </svg>\n",
              "      </button>\n",
              "      \n",
              "  <style>\n",
              "    .colab-df-container {\n",
              "      display:flex;\n",
              "      flex-wrap:wrap;\n",
              "      gap: 12px;\n",
              "    }\n",
              "\n",
              "    .colab-df-convert {\n",
              "      background-color: #E8F0FE;\n",
              "      border: none;\n",
              "      border-radius: 50%;\n",
              "      cursor: pointer;\n",
              "      display: none;\n",
              "      fill: #1967D2;\n",
              "      height: 32px;\n",
              "      padding: 0 0 0 0;\n",
              "      width: 32px;\n",
              "    }\n",
              "\n",
              "    .colab-df-convert:hover {\n",
              "      background-color: #E2EBFA;\n",
              "      box-shadow: 0px 1px 2px rgba(60, 64, 67, 0.3), 0px 1px 3px 1px rgba(60, 64, 67, 0.15);\n",
              "      fill: #174EA6;\n",
              "    }\n",
              "\n",
              "    [theme=dark] .colab-df-convert {\n",
              "      background-color: #3B4455;\n",
              "      fill: #D2E3FC;\n",
              "    }\n",
              "\n",
              "    [theme=dark] .colab-df-convert:hover {\n",
              "      background-color: #434B5C;\n",
              "      box-shadow: 0px 1px 3px 1px rgba(0, 0, 0, 0.15);\n",
              "      filter: drop-shadow(0px 1px 2px rgba(0, 0, 0, 0.3));\n",
              "      fill: #FFFFFF;\n",
              "    }\n",
              "  </style>\n",
              "\n",
              "      <script>\n",
              "        const buttonEl =\n",
              "          document.querySelector('#df-a99085d0-b1b2-4a55-a538-ac4b68190495 button.colab-df-convert');\n",
              "        buttonEl.style.display =\n",
              "          google.colab.kernel.accessAllowed ? 'block' : 'none';\n",
              "\n",
              "        async function convertToInteractive(key) {\n",
              "          const element = document.querySelector('#df-a99085d0-b1b2-4a55-a538-ac4b68190495');\n",
              "          const dataTable =\n",
              "            await google.colab.kernel.invokeFunction('convertToInteractive',\n",
              "                                                     [key], {});\n",
              "          if (!dataTable) return;\n",
              "\n",
              "          const docLinkHtml = 'Like what you see? Visit the ' +\n",
              "            '<a target=\"_blank\" href=https://colab.research.google.com/notebooks/data_table.ipynb>data table notebook</a>'\n",
              "            + ' to learn more about interactive tables.';\n",
              "          element.innerHTML = '';\n",
              "          dataTable['output_type'] = 'display_data';\n",
              "          await google.colab.output.renderOutput(dataTable, element);\n",
              "          const docLink = document.createElement('div');\n",
              "          docLink.innerHTML = docLinkHtml;\n",
              "          element.appendChild(docLink);\n",
              "        }\n",
              "      </script>\n",
              "    </div>\n",
              "  </div>\n",
              "  "
            ]
          },
          "metadata": {},
          "execution_count": 35
        }
      ]
    },
    {
      "cell_type": "code",
      "source": [
        "le = LabelEncoder()\n",
        "X_test_Deck = le.fit_transform(test['Deck'])\n",
        "\n",
        "print(X_test_Deck)"
      ],
      "metadata": {
        "colab": {
          "base_uri": "https://localhost:8080/"
        },
        "id": "J5WsEpBVnEZS",
        "outputId": "492844b3-0581-42cf-c5cf-877ce437fe44"
      },
      "execution_count": 36,
      "outputs": [
        {
          "output_type": "stream",
          "name": "stdout",
          "text": [
            "[7 7 7 7 7 7 7 7 7 7 7 7 1 7 4 7 7 7 7 7 7 7 7 7 1 7 1 7 0 7 7 7 7 7 2 7 7\n",
            " 7 7 7 7 3 7 7 3 7 0 7 3 7 2 7 7 2 7 7 7 5 7 1 7 7 7 7 1 7 7 7 2 2 7 7 7 3\n",
            " 2 2 7 2 7 7 7 2 7 7 7 7 7 7 7 7 7 7 1 7 7 7 2 7 7 7 2 7 7 7 7 7 7 7 7 5 7\n",
            " 7 0 7 2 7 7 6 2 7 7 7 2 7 7 7 7 7 7 7 7 2 7 7 7 7 7 7 7 7 7 7 1 7 7 7 4 7\n",
            " 7 7 2 7 7 7 7 7 2 7 3 7 7 7 7 7 7 7 1 7 7 7 7 7 7 7 7 7 7 2 5 4 7 4 3 7 1\n",
            " 7 7 7 7 7 7 7 7 7 7 7 4 7 7 7 7 7 2 7 7 7 7 7 0 7 7 7 7 7 7 1 7 7 2 7 7 7\n",
            " 5 7 7 7 7 7 7 7 7 7 7 7 2 7 3 7 7 2 7 7 4 7 7 3 7 7 7 7 7 7 2 7 7 7 7 7 7\n",
            " 7 7 7 7 7 7 7 7 7 7 7 2 7 2 7 7 7 7 7 7 7 7 7 7 7 7 7 7 1 4 7 7 7 7 0 7 7\n",
            " 7 7 7 7 7 3 7 7 7 1 2 7 1 7 7 7 7 7 2 7 1 7 7 7 7 4 5 7 7 7 5 7 7 7 7 0 7\n",
            " 7 7 2 7 7 7 7 7 7 7 1 7 7 7 7 7 7 3 7 7 7 7 4 2 7 7 7 7 7 7 7 4 7 7 7 7 7\n",
            " 7 4 1 7 0 7 7 7 2 7 7 7 7 7 7 7 7 7 7 7 1 3 7 7 7 2 7 1 7 7 2 7 7 7 3 3 7\n",
            " 2 7 7 7 2 7 7 2 7 7 7]\n"
          ]
        }
      ]
    },
    {
      "cell_type": "code",
      "source": [
        "X_test_age=numpy.array([test[\"Age\"]])\n",
        "X_test_pclass=numpy.array(test[\"Pclass\"])\n",
        "X_test_SibSp=numpy.array(test[\"SibSp\"])\n",
        "X_test_Parch=numpy.array(test[\"Parch\"])\n",
        "X_test_Fare=numpy.array(test[\"Fare\"])\n",
        "X_test_Title=numpy.array(test[\"Title\"])\n",
        "X_test_Embarked=numpy.array(test[\"Embarked\"])\n",
        "X_test_Sex=numpy.array(test[\"Sex\"])"
      ],
      "metadata": {
        "id": "2nkU4EXjnkfT"
      },
      "execution_count": 37,
      "outputs": []
    },
    {
      "cell_type": "code",
      "source": [
        "from sklearn.preprocessing import LabelEncoder\n",
        "X_test_Title = le.fit_transform(X_test_Title)\n",
        "print(X_test_Title)"
      ],
      "metadata": {
        "colab": {
          "base_uri": "https://localhost:8080/"
        },
        "id": "1eXrXYGJqBWE",
        "outputId": "03f91d0c-6e4c-40c4-bed2-af830a1c6495"
      },
      "execution_count": 38,
      "outputs": [
        {
          "output_type": "stream",
          "name": "stdout",
          "text": [
            "[2 2 2 2 2 2 1 2 2 2 2 2 2 2 2 2 2 2 1 2 2 0 2 3 2 2 1 2 2 2 2 2 2 2 2 2 1\n",
            " 1 2 2 2 2 2 2 2 2 2 2 2 2 2 2 1 1 2 0 2 2 2 1 2 2 2 1 0 2 1 2 2 2 1 2 1 4\n",
            " 1 2 2 2 2 1 0 2 2 2 2 2 1 1 5 0 2 2 2 2 2 2 2 2 1 2 2 2 2 2 2 2 2 2 2 2 2\n",
            " 1 1 1 2 2 2 1 2 2 1 2 2 2 2 1 2 1 2 2 2 4 2 2 2 2 2 2 4 2 1 1 2 2 2 2 2 2\n",
            " 2 4 2 2 2 2 0 2 1 1 2 2 1 0 1 2 4 2 2 2 2 1 2 2 2 2 2 1 1 2 2 2 2 2 2 2 2\n",
            " 2 1 2 1 2 2 2 0 2 4 2 0 1 2 2 1 0 4 1 4 2 1 4 1 2 2 2 2 2 1 2 1 2 2 3 1 2\n",
            " 2 2 2 2 2 1 2 2 2 1 2 2 2 2 2 2 1 2 2 2 2 2 0 2 2 4 2 2 1 3 2 2 2 2 2 2 1\n",
            " 2 2 2 2 1 2 2 2 2 1 2 2 2 2 1 2 1 2 2 2 2 1 0 1 1 1 2 2 2 2 2 3 1 2 4 2 2\n",
            " 1 2 2 2 2 2 2 2 1 2 2 0 2 2 2 2 2 1 2 5 2 2 2 2 2 2 2 2 1 2 1 2 2 2 2 2 2\n",
            " 2 2 2 2 2 2 0 2 2 2 2 0 1 2 2 2 1 2 2 2 2 1 2 2 2 2 2 0 2 2 2 2 2 2 1 2 2\n",
            " 2 1 2 2 2 1 1 2 2 0 2 2 2 2 2 1 2 2 2 0 2 2 0 2 2 2 4 2 2 2 1 2 1 2 2 2 2\n",
            " 2 1 1 1 2 1 2 5 2 2 0]\n"
          ]
        }
      ]
    },
    {
      "cell_type": "code",
      "source": [
        "from sklearn.linear_model import LogisticRegression\n",
        "\n",
        "\n",
        "X_train_age=X_train_age.squeeze()\n",
        "X = np.column_stack((X_train_age, X_train_pclass, X_train_SibSp, X_train_Parch, X_train_Fare, X_train_Title, X_train_Embarked, X_train_Sex,X_train_Deck))\n",
        "y=X_train_Survived\n",
        "# Create logistic regression model object\n",
        "lr_model =LogisticRegression()\n",
        "\n",
        "# Train the model on the training dataset\n",
        "lr_model.fit(X, y)\n",
        "\n",
        "\n",
        "X_test_age=X_test_age.squeeze()\n",
        "X_tr = np.column_stack((X_test_age, X_test_pclass, X_test_SibSp, X_test_Parch, X_test_Fare,  X_test_Embarked, X_test_Sex,X_test_Title,X_test_Deck))\n",
        "\n",
        "# Create logistic regression model object\n",
        "\n",
        "\n",
        "# Train the model on the training dataset\n",
        "y_pred_test = lr_model.predict(X_tr)\n",
        "print(y_pred_test)\n",
        "\n",
        "from sklearn.metrics import accuracy_score\n",
        "y_train_pred = lr_model.predict(X)\n",
        "accuracy = accuracy_score(X_train_Survived, y_train_pred)\n",
        "\n",
        "print('Training accuracy:', accuracy)\n"
      ],
      "metadata": {
        "colab": {
          "base_uri": "https://localhost:8080/"
        },
        "id": "17_2JYxrnO4a",
        "outputId": "44f7c928-54ac-4ecf-e8a9-7d36714b9ea1"
      },
      "execution_count": 39,
      "outputs": [
        {
          "output_type": "stream",
          "name": "stdout",
          "text": [
            "[1 1 1 1 1 1 1 1 1 1 1 1 1 1 1 1 1 1 1 1 1 0 1 1 1 1 1 1 1 1 1 1 1 1 1 1 1\n",
            " 1 1 1 1 1 1 1 1 1 1 1 1 1 1 1 1 1 1 0 1 1 1 1 1 1 1 1 1 1 1 1 1 1 1 1 1 1\n",
            " 1 1 1 1 1 1 0 1 1 1 1 1 1 1 1 0 1 1 1 1 1 1 1 1 1 1 1 1 1 1 1 1 1 1 1 1 1\n",
            " 1 1 1 1 1 1 1 1 1 1 1 1 1 1 1 1 1 1 1 1 1 1 1 1 1 1 1 1 1 0 1 1 1 1 1 1 1\n",
            " 1 1 1 1 1 1 0 1 1 1 1 1 1 0 1 1 1 1 1 1 1 1 1 1 1 1 1 1 1 1 1 1 1 1 1 1 1\n",
            " 1 1 1 0 1 1 1 0 1 1 1 1 1 1 1 1 0 1 1 1 1 1 1 1 1 1 1 1 1 0 1 1 1 1 1 1 1\n",
            " 1 1 1 1 1 1 1 1 1 1 1 1 1 1 1 1 1 1 1 1 1 1 0 1 1 1 1 1 1 1 1 1 1 1 1 1 1\n",
            " 1 1 1 1 1 1 1 1 1 1 1 1 1 1 1 1 1 1 1 1 1 1 0 1 1 1 1 1 1 1 1 1 1 1 1 1 1\n",
            " 1 1 1 1 1 1 1 1 1 1 1 0 1 1 1 1 1 1 1 1 1 1 1 1 1 1 1 1 1 1 1 1 1 1 1 1 1\n",
            " 1 1 1 1 1 1 0 1 1 1 1 0 1 1 1 1 1 1 1 1 1 1 1 1 1 1 1 0 1 1 1 1 1 1 1 1 1\n",
            " 1 1 1 1 1 1 1 1 1 0 1 1 1 1 1 1 1 1 1 0 1 1 0 1 1 1 1 1 1 1 1 1 1 1 1 1 1\n",
            " 1 1 1 1 1 1 1 1 1 1 0]\n",
            "Training accuracy: 0.8024691358024691\n"
          ]
        },
        {
          "output_type": "stream",
          "name": "stderr",
          "text": [
            "/usr/local/lib/python3.9/dist-packages/sklearn/linear_model/_logistic.py:458: ConvergenceWarning: lbfgs failed to converge (status=1):\n",
            "STOP: TOTAL NO. of ITERATIONS REACHED LIMIT.\n",
            "\n",
            "Increase the number of iterations (max_iter) or scale the data as shown in:\n",
            "    https://scikit-learn.org/stable/modules/preprocessing.html\n",
            "Please also refer to the documentation for alternative solver options:\n",
            "    https://scikit-learn.org/stable/modules/linear_model.html#logistic-regression\n",
            "  n_iter_i = _check_optimize_result(\n"
          ]
        }
      ]
    },
    {
      "cell_type": "code",
      "source": [
        "string_array=[]\n",
        "for value in y_pred_test:\n",
        "    if value == 0:\n",
        "        string_array.append(\"not survived\")\n",
        "    else:\n",
        "        string_array.append(\"survived\")\n",
        "\n",
        "print(string_array)"
      ],
      "metadata": {
        "colab": {
          "base_uri": "https://localhost:8080/"
        },
        "id": "f22qJvcUp0HF",
        "outputId": "378537f3-22ac-42d9-94d9-64d66e67e25c"
      },
      "execution_count": null,
      "outputs": [
        {
          "output_type": "stream",
          "name": "stdout",
          "text": [
            "['not survived', 'survived', 'survived', 'survived', 'not survived', 'not survived', 'not survived', 'not survived', 'survived', 'survived', 'survived', 'survived', 'not survived', 'not survived', 'survived', 'survived', 'not survived', 'not survived', 'not survived', 'survived', 'not survived', 'not survived', 'survived', 'survived', 'survived', 'not survived', 'not survived', 'not survived', 'survived', 'not survived', 'not survived', 'survived', 'survived', 'not survived', 'survived', 'not survived', 'not survived', 'not survived', 'survived', 'survived', 'not survived', 'survived', 'not survived', 'survived', 'survived', 'not survived', 'not survived', 'not survived', 'not survived', 'survived', 'not survived', 'not survived', 'survived', 'survived', 'not survived', 'not survived', 'survived', 'not survived', 'survived', 'not survived', 'not survived', 'survived', 'not survived', 'not survived', 'survived', 'not survived', 'survived', 'not survived', 'not survived', 'not survived', 'not survived', 'not survived', 'not survived', 'not survived', 'not survived', 'not survived', 'not survived', 'not survived', 'survived', 'survived', 'not survived', 'not survived', 'survived', 'survived', 'survived', 'not survived', 'not survived', 'not survived', 'survived', 'not survived', 'not survived', 'not survived', 'not survived', 'not survived', 'not survived', 'not survived', 'not survived', 'survived', 'survived', 'not survived', 'survived', 'not survived', 'survived', 'not survived', 'not survived', 'not survived', 'survived', 'not survived', 'not survived', 'survived', 'not survived', 'survived', 'not survived', 'survived', 'survived', 'not survived', 'not survived', 'not survived', 'survived', 'not survived', 'not survived', 'not survived', 'not survived', 'survived', 'not survived', 'not survived', 'not survived', 'not survived', 'survived', 'not survived', 'not survived', 'not survived', 'not survived', 'survived', 'not survived', 'not survived', 'survived', 'not survived', 'not survived', 'survived', 'survived', 'survived', 'survived', 'not survived', 'not survived', 'not survived', 'not survived', 'survived', 'not survived', 'not survived', 'not survived', 'survived', 'not survived', 'not survived', 'not survived', 'not survived', 'survived', 'not survived', 'not survived', 'not survived', 'not survived', 'survived', 'not survived', 'not survived', 'not survived', 'not survived', 'survived', 'not survived', 'not survived', 'not survived', 'not survived', 'not survived', 'survived', 'not survived', 'not survived', 'not survived', 'not survived', 'survived', 'not survived', 'not survived', 'not survived', 'not survived', 'not survived', 'not survived', 'survived', 'not survived', 'not survived', 'not survived', 'not survived', 'not survived', 'survived', 'not survived', 'survived', 'not survived', 'survived', 'survived', 'not survived', 'not survived', 'survived', 'survived', 'not survived', 'not survived', 'not survived', 'not survived', 'not survived', 'survived', 'not survived', 'not survived', 'survived', 'survived', 'not survived', 'survived', 'not survived', 'not survived', 'not survived', 'survived', 'survived', 'not survived', 'survived', 'not survived', 'not survived', 'not survived', 'not survived', 'not survived', 'not survived', 'not survived', 'not survived', 'not survived', 'not survived', 'not survived', 'survived', 'not survived', 'not survived', 'not survived', 'not survived', 'survived', 'not survived', 'survived', 'not survived', 'not survived', 'survived', 'survived', 'not survived', 'not survived', 'not survived', 'not survived', 'survived', 'survived', 'not survived', 'not survived', 'not survived', 'not survived', 'not survived', 'not survived', 'not survived', 'survived', 'survived', 'survived', 'survived', 'survived', 'not survived', 'not survived', 'not survived', 'not survived', 'survived', 'not survived', 'not survived', 'not survived', 'survived', 'survived', 'not survived', 'not survived', 'survived', 'survived', 'survived', 'survived', 'not survived', 'not survived', 'not survived', 'not survived', 'not survived', 'not survived', 'not survived', 'not survived', 'not survived', 'not survived', 'not survived', 'not survived', 'not survived', 'survived', 'survived', 'survived', 'not survived', 'survived', 'not survived', 'survived', 'not survived', 'survived', 'not survived', 'survived', 'survived', 'not survived', 'not survived', 'survived', 'not survived', 'survived', 'survived', 'survived', 'not survived', 'survived', 'survived', 'survived', 'survived', 'not survived', 'not survived', 'survived', 'survived', 'not survived', 'survived', 'survived', 'not survived', 'not survived', 'survived', 'survived', 'not survived', 'survived', 'not survived', 'survived', 'not survived', 'survived', 'survived', 'not survived', 'not survived', 'not survived', 'survived', 'not survived', 'not survived', 'survived', 'not survived', 'not survived', 'not survived', 'survived', 'not survived', 'not survived', 'not survived', 'survived', 'survived', 'not survived', 'not survived', 'not survived', 'not survived', 'not survived', 'not survived', 'not survived', 'not survived', 'not survived', 'survived', 'survived', 'survived', 'survived', 'not survived', 'not survived', 'survived', 'not survived', 'not survived', 'not survived', 'survived', 'survived', 'survived', 'survived', 'survived', 'not survived', 'not survived', 'survived', 'survived', 'survived', 'survived', 'survived', 'not survived', 'not survived', 'survived', 'survived', 'not survived', 'survived', 'not survived', 'not survived', 'not survived', 'survived', 'not survived', 'survived', 'not survived', 'not survived', 'not survived', 'survived', 'survived', 'not survived', 'survived', 'not survived', 'not survived', 'survived', 'not survived', 'not survived', 'survived', 'not survived', 'survived', 'not survived', 'not survived', 'not survived', 'not survived', 'not survived', 'not survived', 'not survived', 'survived', 'not survived', 'not survived', 'survived', 'survived', 'survived', 'not survived', 'survived', 'not survived', 'not survived', 'not survived', 'not survived', 'not survived', 'not survived', 'survived', 'survived', 'not survived', 'not survived', 'survived', 'not survived', 'survived', 'not survived', 'not survived', 'survived', 'not survived', 'survived', 'not survived', 'not survived', 'survived', 'not survived', 'not survived', 'survived', 'not survived', 'survived', 'survived', 'not survived', 'survived', 'not survived', 'not survived', 'not survived', 'survived', 'not survived', 'not survived', 'not survived', 'not survived', 'survived', 'survived', 'not survived', 'not survived', 'not survived', 'not survived', 'not survived', 'not survived', 'not survived', 'not survived', 'not survived', 'not survived', 'survived', 'not survived', 'not survived', 'survived', 'survived', 'survived', 'not survived', 'not survived', 'not survived', 'not survived', 'survived', 'not survived', 'not survived', 'not survived', 'not survived', 'survived', 'not survived', 'survived', 'not survived', 'not survived', 'not survived', 'not survived', 'not survived', 'not survived', 'not survived', 'not survived', 'not survived', 'survived', 'not survived', 'survived', 'not survived', 'not survived', 'survived', 'survived', 'survived', 'survived', 'survived', 'survived', 'not survived', 'not survived', 'not survived', 'not survived', 'not survived', 'not survived', 'survived', 'not survived', 'not survived', 'survived', 'not survived', 'survived', 'not survived', 'survived', 'not survived', 'not survived', 'survived', 'not survived', 'not survived', 'survived', 'survived', 'not survived', 'not survived', 'survived', 'not survived', 'not survived', 'survived', 'survived', 'survived', 'not survived', 'survived', 'not survived', 'survived', 'survived', 'not survived', 'not survived', 'not survived', 'not survived', 'not survived', 'survived', 'not survived', 'not survived', 'not survived', 'survived', 'not survived', 'not survived', 'not survived', 'survived', 'not survived', 'survived', 'survived', 'survived', 'not survived', 'not survived', 'not survived', 'not survived', 'not survived', 'survived', 'not survived', 'not survived', 'not survived', 'not survived', 'not survived', 'not survived', 'survived', 'not survived', 'survived', 'not survived', 'not survived', 'survived', 'survived', 'survived', 'not survived', 'survived', 'survived', 'not survived', 'survived', 'not survived', 'survived', 'not survived', 'not survived', 'not survived', 'not survived', 'not survived', 'survived', 'not survived', 'survived', 'not survived', 'not survived', 'survived', 'not survived', 'not survived', 'not survived', 'survived', 'not survived', 'not survived', 'not survived', 'survived', 'not survived', 'not survived', 'survived', 'survived', 'survived', 'not survived', 'not survived', 'survived', 'not survived', 'not survived', 'survived', 'not survived', 'survived', 'survived', 'not survived', 'not survived', 'not survived', 'not survived', 'not survived', 'not survived', 'not survived', 'not survived', 'survived', 'not survived', 'not survived', 'not survived', 'not survived', 'not survived', 'not survived', 'not survived', 'survived', 'not survived', 'not survived', 'not survived', 'not survived', 'not survived', 'survived', 'survived', 'not survived', 'survived', 'not survived', 'not survived', 'not survived', 'not survived', 'survived', 'not survived', 'survived', 'not survived', 'survived', 'survived', 'not survived', 'not survived', 'not survived', 'not survived', 'not survived', 'not survived', 'not survived', 'not survived', 'not survived', 'not survived', 'not survived', 'not survived', 'not survived', 'not survived', 'survived', 'survived', 'not survived', 'not survived', 'not survived', 'not survived', 'not survived', 'not survived', 'survived', 'not survived', 'survived', 'survived', 'survived', 'not survived', 'not survived', 'not survived', 'not survived', 'not survived', 'not survived', 'not survived', 'survived', 'not survived', 'survived', 'not survived', 'not survived', 'not survived', 'not survived', 'not survived', 'survived', 'not survived', 'not survived', 'survived', 'not survived', 'survived', 'not survived', 'not survived', 'not survived', 'survived', 'not survived', 'survived', 'not survived', 'survived', 'not survived', 'not survived', 'not survived', 'not survived', 'not survived', 'survived', 'survived', 'not survived', 'not survived', 'survived', 'not survived', 'not survived', 'not survived', 'not survived', 'not survived', 'survived', 'survived', 'not survived', 'survived', 'survived', 'not survived', 'not survived', 'not survived', 'not survived', 'not survived', 'not survived', 'survived', 'not survived', 'not survived', 'not survived', 'not survived', 'survived', 'not survived', 'not survived', 'not survived', 'not survived', 'survived', 'survived', 'not survived', 'survived', 'not survived', 'not survived', 'not survived', 'survived', 'not survived', 'not survived', 'not survived', 'not survived', 'survived', 'not survived', 'not survived', 'not survived', 'survived', 'not survived', 'survived', 'not survived', 'survived', 'not survived', 'not survived', 'not survived', 'not survived', 'survived', 'not survived', 'not survived', 'not survived', 'not survived', 'survived', 'not survived', 'survived', 'survived', 'survived', 'survived', 'not survived', 'not survived', 'not survived', 'survived', 'not survived', 'not survived', 'not survived', 'not survived', 'not survived', 'not survived', 'survived', 'not survived', 'not survived', 'survived', 'survived', 'not survived', 'not survived', 'not survived', 'survived', 'survived', 'not survived', 'not survived', 'not survived', 'not survived', 'survived', 'not survived', 'survived', 'not survived', 'not survived', 'not survived', 'not survived', 'not survived', 'not survived', 'survived', 'not survived', 'not survived', 'not survived', 'survived', 'not survived', 'not survived', 'survived', 'not survived', 'not survived', 'not survived', 'survived', 'not survived', 'survived', 'survived', 'not survived', 'not survived', 'not survived', 'not survived', 'survived', 'not survived', 'not survived', 'not survived', 'survived', 'not survived', 'not survived', 'survived', 'not survived', 'not survived', 'not survived', 'not survived', 'not survived', 'not survived', 'survived', 'not survived', 'not survived', 'survived', 'survived', 'survived', 'survived', 'survived', 'not survived', 'survived', 'not survived', 'not survived', 'not survived', 'survived', 'not survived', 'not survived', 'survived', 'survived', 'survived', 'not survived', 'not survived', 'not survived', 'survived', 'not survived', 'not survived', 'survived', 'survived', 'not survived', 'not survived', 'not survived', 'survived', 'survived', 'not survived', 'survived', 'not survived', 'not survived', 'not survived', 'not survived', 'survived', 'survived', 'survived', 'not survived']\n"
          ]
        }
      ]
    },
    {
      "cell_type": "code",
      "source": [
        "test[\"Survived\"]=y_pred_test\n",
        "print(test.head())"
      ],
      "metadata": {
        "colab": {
          "base_uri": "https://localhost:8080/"
        },
        "id": "IFoZX7vHbvZT",
        "outputId": "7626d485-5c44-4809-c01f-dcf6137dd69b"
      },
      "execution_count": 40,
      "outputs": [
        {
          "output_type": "stream",
          "name": "stdout",
          "text": [
            "   Pclass  Sex   Age  SibSp  Parch     Fare  Embarked     Deck Title  Survived\n",
            "0       3    0  34.5      0      0   7.8292         1  Unknown    Mr         1\n",
            "1       3    1  47.0      1      0   7.0000         2  Unknown    Mr         1\n",
            "2       2    0  62.0      0      0   9.6875         1  Unknown    Mr         1\n",
            "3       3    0  27.0      0      0   8.6625         2  Unknown    Mr         1\n",
            "4       3    1  22.0      1      1  12.2875         2  Unknown    Mr         1\n"
          ]
        }
      ]
    },
    {
      "cell_type": "code",
      "source": [
        "print(train.head())"
      ],
      "metadata": {
        "colab": {
          "base_uri": "https://localhost:8080/"
        },
        "id": "3MvocPqzdTNL",
        "outputId": "adeb9ceb-0a60-482f-d712-a6868a3d8591"
      },
      "execution_count": 41,
      "outputs": [
        {
          "output_type": "stream",
          "name": "stdout",
          "text": [
            "   PassengerId  Survived  Pclass     Sex   Age  SibSp  Parch     Fare  \\\n",
            "0            1         0       3    male  22.0      1      0   7.2500   \n",
            "1            2         1       1  female  38.0      1      0  71.2833   \n",
            "2            3         1       3  female  26.0      0      0   7.9250   \n",
            "3            4         1       1  female  35.0      1      0  53.1000   \n",
            "4            5         0       3    male  35.0      0      0   8.0500   \n",
            "\n",
            "  Embarked     Deck Title  \n",
            "0        S  Unknown    Mr  \n",
            "1        C        C    Mr  \n",
            "2        S  Unknown  Miss  \n",
            "3        S        C    Mr  \n",
            "4        S  Unknown    Mr  \n"
          ]
        }
      ]
    },
    {
      "cell_type": "code",
      "source": [],
      "metadata": {
        "id": "oKNuDWE_djii"
      },
      "execution_count": null,
      "outputs": []
    }
  ],
  "metadata": {
    "colab": {
      "provenance": []
    },
    "kernelspec": {
      "display_name": "Python 3",
      "name": "python3"
    },
    "language_info": {
      "name": "python"
    }
  },
  "nbformat": 4,
  "nbformat_minor": 0
}